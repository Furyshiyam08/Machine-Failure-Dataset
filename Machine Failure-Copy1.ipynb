{
 "cells": [
  {
   "cell_type": "code",
   "execution_count": 1,
   "metadata": {},
   "outputs": [],
   "source": [
    "import pandas as pd\n",
    "import seaborn as sns\n",
    "import matplotlib.pyplot as plt\n",
    "import numpy as np\n",
    "from scipy import stats"
   ]
  },
  {
   "cell_type": "code",
   "execution_count": 2,
   "metadata": {},
   "outputs": [],
   "source": [
    "plt.rcParams[\"figure.figsize\"] = (10,5)"
   ]
  },
  {
   "cell_type": "code",
   "execution_count": 3,
   "metadata": {},
   "outputs": [],
   "source": [
    "mf = pd.read_csv('Machine Failure.csv')"
   ]
  },
  {
   "cell_type": "code",
   "execution_count": 4,
   "metadata": {},
   "outputs": [
    {
     "data": {
      "text/plain": [
       "(8784, 28)"
      ]
     },
     "execution_count": 4,
     "metadata": {},
     "output_type": "execute_result"
    }
   ],
   "source": [
    "mf.shape"
   ]
  },
  {
   "cell_type": "code",
   "execution_count": 5,
   "metadata": {},
   "outputs": [
    {
     "data": {
      "text/html": [
       "<div>\n",
       "<style scoped>\n",
       "    .dataframe tbody tr th:only-of-type {\n",
       "        vertical-align: middle;\n",
       "    }\n",
       "\n",
       "    .dataframe tbody tr th {\n",
       "        vertical-align: top;\n",
       "    }\n",
       "\n",
       "    .dataframe thead th {\n",
       "        text-align: right;\n",
       "    }\n",
       "</style>\n",
       "<table border=\"1\" class=\"dataframe\">\n",
       "  <thead>\n",
       "    <tr style=\"text-align: right;\">\n",
       "      <th></th>\n",
       "      <th>Date</th>\n",
       "      <th>Temperature</th>\n",
       "      <th>Humidity</th>\n",
       "      <th>Operator</th>\n",
       "      <th>Measure1</th>\n",
       "      <th>Measure2</th>\n",
       "      <th>Measure3</th>\n",
       "      <th>Measure4</th>\n",
       "      <th>Measure5</th>\n",
       "      <th>Measure6</th>\n",
       "      <th>...</th>\n",
       "      <th>Measure15</th>\n",
       "      <th>Hours Since Previous Failure</th>\n",
       "      <th>Failure</th>\n",
       "      <th>﻿Date.year</th>\n",
       "      <th>﻿Date.month</th>\n",
       "      <th>﻿Date.day-of-month</th>\n",
       "      <th>﻿Date.day-of-week</th>\n",
       "      <th>﻿Date.hour</th>\n",
       "      <th>﻿Date.minute</th>\n",
       "      <th>﻿Date.second</th>\n",
       "    </tr>\n",
       "  </thead>\n",
       "  <tbody>\n",
       "    <tr>\n",
       "      <th>0</th>\n",
       "      <td>2016-01-01 00:00:00</td>\n",
       "      <td>67</td>\n",
       "      <td>82</td>\n",
       "      <td>Operator1</td>\n",
       "      <td>291</td>\n",
       "      <td>1</td>\n",
       "      <td>1</td>\n",
       "      <td>1041</td>\n",
       "      <td>846</td>\n",
       "      <td>334</td>\n",
       "      <td>...</td>\n",
       "      <td>1842</td>\n",
       "      <td>90</td>\n",
       "      <td>No</td>\n",
       "      <td>2016</td>\n",
       "      <td>1</td>\n",
       "      <td>1</td>\n",
       "      <td>5</td>\n",
       "      <td>0</td>\n",
       "      <td>0</td>\n",
       "      <td>0</td>\n",
       "    </tr>\n",
       "    <tr>\n",
       "      <th>1</th>\n",
       "      <td>2016-01-01 01:00:00</td>\n",
       "      <td>68</td>\n",
       "      <td>77</td>\n",
       "      <td>Operator1</td>\n",
       "      <td>1180</td>\n",
       "      <td>1</td>\n",
       "      <td>1</td>\n",
       "      <td>1915</td>\n",
       "      <td>1194</td>\n",
       "      <td>637</td>\n",
       "      <td>...</td>\n",
       "      <td>748</td>\n",
       "      <td>91</td>\n",
       "      <td>No</td>\n",
       "      <td>2016</td>\n",
       "      <td>1</td>\n",
       "      <td>1</td>\n",
       "      <td>5</td>\n",
       "      <td>1</td>\n",
       "      <td>0</td>\n",
       "      <td>0</td>\n",
       "    </tr>\n",
       "    <tr>\n",
       "      <th>2</th>\n",
       "      <td>2016-01-01 02:00:00</td>\n",
       "      <td>64</td>\n",
       "      <td>76</td>\n",
       "      <td>Operator1</td>\n",
       "      <td>1406</td>\n",
       "      <td>1</td>\n",
       "      <td>1</td>\n",
       "      <td>511</td>\n",
       "      <td>1577</td>\n",
       "      <td>1121</td>\n",
       "      <td>...</td>\n",
       "      <td>1689</td>\n",
       "      <td>92</td>\n",
       "      <td>No</td>\n",
       "      <td>2016</td>\n",
       "      <td>1</td>\n",
       "      <td>1</td>\n",
       "      <td>5</td>\n",
       "      <td>2</td>\n",
       "      <td>0</td>\n",
       "      <td>0</td>\n",
       "    </tr>\n",
       "    <tr>\n",
       "      <th>3</th>\n",
       "      <td>2016-01-01 03:00:00</td>\n",
       "      <td>63</td>\n",
       "      <td>80</td>\n",
       "      <td>Operator1</td>\n",
       "      <td>550</td>\n",
       "      <td>1</td>\n",
       "      <td>1</td>\n",
       "      <td>1754</td>\n",
       "      <td>1834</td>\n",
       "      <td>1413</td>\n",
       "      <td>...</td>\n",
       "      <td>711</td>\n",
       "      <td>93</td>\n",
       "      <td>No</td>\n",
       "      <td>2016</td>\n",
       "      <td>1</td>\n",
       "      <td>1</td>\n",
       "      <td>5</td>\n",
       "      <td>3</td>\n",
       "      <td>0</td>\n",
       "      <td>0</td>\n",
       "    </tr>\n",
       "    <tr>\n",
       "      <th>4</th>\n",
       "      <td>2016-01-01 04:00:00</td>\n",
       "      <td>65</td>\n",
       "      <td>81</td>\n",
       "      <td>Operator1</td>\n",
       "      <td>1928</td>\n",
       "      <td>1</td>\n",
       "      <td>2</td>\n",
       "      <td>1326</td>\n",
       "      <td>1082</td>\n",
       "      <td>233</td>\n",
       "      <td>...</td>\n",
       "      <td>507</td>\n",
       "      <td>94</td>\n",
       "      <td>No</td>\n",
       "      <td>2016</td>\n",
       "      <td>1</td>\n",
       "      <td>1</td>\n",
       "      <td>5</td>\n",
       "      <td>4</td>\n",
       "      <td>0</td>\n",
       "      <td>0</td>\n",
       "    </tr>\n",
       "  </tbody>\n",
       "</table>\n",
       "<p>5 rows × 28 columns</p>\n",
       "</div>"
      ],
      "text/plain": [
       "                  Date  Temperature  Humidity   Operator  Measure1  Measure2  \\\n",
       "0  2016-01-01 00:00:00           67        82  Operator1       291         1   \n",
       "1  2016-01-01 01:00:00           68        77  Operator1      1180         1   \n",
       "2  2016-01-01 02:00:00           64        76  Operator1      1406         1   \n",
       "3  2016-01-01 03:00:00           63        80  Operator1       550         1   \n",
       "4  2016-01-01 04:00:00           65        81  Operator1      1928         1   \n",
       "\n",
       "   Measure3  Measure4  Measure5  Measure6  ...  Measure15  \\\n",
       "0         1      1041       846       334  ...       1842   \n",
       "1         1      1915      1194       637  ...        748   \n",
       "2         1       511      1577      1121  ...       1689   \n",
       "3         1      1754      1834      1413  ...        711   \n",
       "4         2      1326      1082       233  ...        507   \n",
       "\n",
       "   Hours Since Previous Failure  Failure  ﻿Date.year  ﻿Date.month  \\\n",
       "0                            90       No        2016            1   \n",
       "1                            91       No        2016            1   \n",
       "2                            92       No        2016            1   \n",
       "3                            93       No        2016            1   \n",
       "4                            94       No        2016            1   \n",
       "\n",
       "   ﻿Date.day-of-month  ﻿Date.day-of-week  ﻿Date.hour  ﻿Date.minute  \\\n",
       "0                   1                  5           0             0   \n",
       "1                   1                  5           1             0   \n",
       "2                   1                  5           2             0   \n",
       "3                   1                  5           3             0   \n",
       "4                   1                  5           4             0   \n",
       "\n",
       "   ﻿Date.second  \n",
       "0             0  \n",
       "1             0  \n",
       "2             0  \n",
       "3             0  \n",
       "4             0  \n",
       "\n",
       "[5 rows x 28 columns]"
      ]
     },
     "execution_count": 5,
     "metadata": {},
     "output_type": "execute_result"
    }
   ],
   "source": [
    "mf.head()"
   ]
  },
  {
   "cell_type": "code",
   "execution_count": 6,
   "metadata": {},
   "outputs": [
    {
     "data": {
      "text/html": [
       "<div>\n",
       "<style scoped>\n",
       "    .dataframe tbody tr th:only-of-type {\n",
       "        vertical-align: middle;\n",
       "    }\n",
       "\n",
       "    .dataframe tbody tr th {\n",
       "        vertical-align: top;\n",
       "    }\n",
       "\n",
       "    .dataframe thead th {\n",
       "        text-align: right;\n",
       "    }\n",
       "</style>\n",
       "<table border=\"1\" class=\"dataframe\">\n",
       "  <thead>\n",
       "    <tr style=\"text-align: right;\">\n",
       "      <th></th>\n",
       "      <th>Date</th>\n",
       "      <th>Temperature</th>\n",
       "      <th>Humidity</th>\n",
       "      <th>Operator</th>\n",
       "      <th>Measure1</th>\n",
       "      <th>Measure2</th>\n",
       "      <th>Measure3</th>\n",
       "      <th>Measure4</th>\n",
       "      <th>Measure5</th>\n",
       "      <th>Measure6</th>\n",
       "      <th>...</th>\n",
       "      <th>Measure15</th>\n",
       "      <th>Hours Since Previous Failure</th>\n",
       "      <th>Failure</th>\n",
       "      <th>﻿Date.year</th>\n",
       "      <th>﻿Date.month</th>\n",
       "      <th>﻿Date.day-of-month</th>\n",
       "      <th>﻿Date.day-of-week</th>\n",
       "      <th>﻿Date.hour</th>\n",
       "      <th>﻿Date.minute</th>\n",
       "      <th>﻿Date.second</th>\n",
       "    </tr>\n",
       "  </thead>\n",
       "  <tbody>\n",
       "    <tr>\n",
       "      <th>8779</th>\n",
       "      <td>2016-12-31 19:00:00</td>\n",
       "      <td>66</td>\n",
       "      <td>79</td>\n",
       "      <td>Operator8</td>\n",
       "      <td>937</td>\n",
       "      <td>0</td>\n",
       "      <td>2</td>\n",
       "      <td>1875</td>\n",
       "      <td>1719</td>\n",
       "      <td>219</td>\n",
       "      <td>...</td>\n",
       "      <td>410</td>\n",
       "      <td>7</td>\n",
       "      <td>No</td>\n",
       "      <td>2016</td>\n",
       "      <td>12</td>\n",
       "      <td>31</td>\n",
       "      <td>6</td>\n",
       "      <td>19</td>\n",
       "      <td>0</td>\n",
       "      <td>0</td>\n",
       "    </tr>\n",
       "    <tr>\n",
       "      <th>8780</th>\n",
       "      <td>2016-12-31 20:00:00</td>\n",
       "      <td>60</td>\n",
       "      <td>77</td>\n",
       "      <td>Operator8</td>\n",
       "      <td>379</td>\n",
       "      <td>3</td>\n",
       "      <td>0</td>\n",
       "      <td>814</td>\n",
       "      <td>1990</td>\n",
       "      <td>1606</td>\n",
       "      <td>...</td>\n",
       "      <td>943</td>\n",
       "      <td>8</td>\n",
       "      <td>No</td>\n",
       "      <td>2016</td>\n",
       "      <td>12</td>\n",
       "      <td>31</td>\n",
       "      <td>6</td>\n",
       "      <td>20</td>\n",
       "      <td>0</td>\n",
       "      <td>0</td>\n",
       "    </tr>\n",
       "    <tr>\n",
       "      <th>8781</th>\n",
       "      <td>2016-12-31 21:00:00</td>\n",
       "      <td>61</td>\n",
       "      <td>77</td>\n",
       "      <td>Operator8</td>\n",
       "      <td>595</td>\n",
       "      <td>3</td>\n",
       "      <td>1</td>\n",
       "      <td>1659</td>\n",
       "      <td>1134</td>\n",
       "      <td>1314</td>\n",
       "      <td>...</td>\n",
       "      <td>200</td>\n",
       "      <td>9</td>\n",
       "      <td>No</td>\n",
       "      <td>2016</td>\n",
       "      <td>12</td>\n",
       "      <td>31</td>\n",
       "      <td>6</td>\n",
       "      <td>21</td>\n",
       "      <td>0</td>\n",
       "      <td>0</td>\n",
       "    </tr>\n",
       "    <tr>\n",
       "      <th>8782</th>\n",
       "      <td>2016-12-31 22:00:00</td>\n",
       "      <td>72</td>\n",
       "      <td>81</td>\n",
       "      <td>Operator8</td>\n",
       "      <td>1038</td>\n",
       "      <td>3</td>\n",
       "      <td>2</td>\n",
       "      <td>254</td>\n",
       "      <td>1400</td>\n",
       "      <td>564</td>\n",
       "      <td>...</td>\n",
       "      <td>1192</td>\n",
       "      <td>10</td>\n",
       "      <td>No</td>\n",
       "      <td>2016</td>\n",
       "      <td>12</td>\n",
       "      <td>31</td>\n",
       "      <td>6</td>\n",
       "      <td>22</td>\n",
       "      <td>0</td>\n",
       "      <td>0</td>\n",
       "    </tr>\n",
       "    <tr>\n",
       "      <th>8783</th>\n",
       "      <td>2016-12-31 23:00:00</td>\n",
       "      <td>60</td>\n",
       "      <td>82</td>\n",
       "      <td>Operator8</td>\n",
       "      <td>399</td>\n",
       "      <td>0</td>\n",
       "      <td>1</td>\n",
       "      <td>324</td>\n",
       "      <td>1424</td>\n",
       "      <td>809</td>\n",
       "      <td>...</td>\n",
       "      <td>1548</td>\n",
       "      <td>11</td>\n",
       "      <td>No</td>\n",
       "      <td>2016</td>\n",
       "      <td>12</td>\n",
       "      <td>31</td>\n",
       "      <td>6</td>\n",
       "      <td>23</td>\n",
       "      <td>0</td>\n",
       "      <td>0</td>\n",
       "    </tr>\n",
       "  </tbody>\n",
       "</table>\n",
       "<p>5 rows × 28 columns</p>\n",
       "</div>"
      ],
      "text/plain": [
       "                     Date  Temperature  Humidity   Operator  Measure1  \\\n",
       "8779  2016-12-31 19:00:00           66        79  Operator8       937   \n",
       "8780  2016-12-31 20:00:00           60        77  Operator8       379   \n",
       "8781  2016-12-31 21:00:00           61        77  Operator8       595   \n",
       "8782  2016-12-31 22:00:00           72        81  Operator8      1038   \n",
       "8783  2016-12-31 23:00:00           60        82  Operator8       399   \n",
       "\n",
       "      Measure2  Measure3  Measure4  Measure5  Measure6  ...  Measure15  \\\n",
       "8779         0         2      1875      1719       219  ...        410   \n",
       "8780         3         0       814      1990      1606  ...        943   \n",
       "8781         3         1      1659      1134      1314  ...        200   \n",
       "8782         3         2       254      1400       564  ...       1192   \n",
       "8783         0         1       324      1424       809  ...       1548   \n",
       "\n",
       "      Hours Since Previous Failure  Failure  ﻿Date.year  ﻿Date.month  \\\n",
       "8779                             7       No        2016           12   \n",
       "8780                             8       No        2016           12   \n",
       "8781                             9       No        2016           12   \n",
       "8782                            10       No        2016           12   \n",
       "8783                            11       No        2016           12   \n",
       "\n",
       "      ﻿Date.day-of-month  ﻿Date.day-of-week  ﻿Date.hour  ﻿Date.minute  \\\n",
       "8779                  31                  6          19             0   \n",
       "8780                  31                  6          20             0   \n",
       "8781                  31                  6          21             0   \n",
       "8782                  31                  6          22             0   \n",
       "8783                  31                  6          23             0   \n",
       "\n",
       "      ﻿Date.second  \n",
       "8779             0  \n",
       "8780             0  \n",
       "8781             0  \n",
       "8782             0  \n",
       "8783             0  \n",
       "\n",
       "[5 rows x 28 columns]"
      ]
     },
     "execution_count": 6,
     "metadata": {},
     "output_type": "execute_result"
    }
   ],
   "source": [
    "mf.tail()"
   ]
  },
  {
   "cell_type": "code",
   "execution_count": 7,
   "metadata": {},
   "outputs": [
    {
     "data": {
      "text/plain": [
       "array([67, 68, 64, 63, 65, 61, 62, 60, 66, 69, 71, 72, 70, 12, 73, 28, 75,\n",
       "       74, 19, 77, 76,  5, 78], dtype=int64)"
      ]
     },
     "execution_count": 7,
     "metadata": {},
     "output_type": "execute_result"
    }
   ],
   "source": [
    "mf.Temperature.unique()"
   ]
  },
  {
   "cell_type": "code",
   "execution_count": 8,
   "metadata": {},
   "outputs": [
    {
     "data": {
      "text/plain": [
       "array([ 82,  77,  76,  80,  81,  84,  83,  79,  85,  75,  78, 110,  65,\n",
       "        67,  68,  70,  86,  71,  72,  69,  88,  87,  73, 109,  93,  92,\n",
       "        90,  91,  89, 122,  74,  94,  95,  66, 120], dtype=int64)"
      ]
     },
     "execution_count": 8,
     "metadata": {},
     "output_type": "execute_result"
    }
   ],
   "source": [
    "mf.Humidity.unique()"
   ]
  },
  {
   "cell_type": "code",
   "execution_count": 9,
   "metadata": {},
   "outputs": [
    {
     "data": {
      "text/plain": [
       "array(['Operator1', 'Operator3', 'Operator5', 'Operator2', 'Operator4',\n",
       "       'Operator6', 'Operator7', 'Operator8'], dtype=object)"
      ]
     },
     "execution_count": 9,
     "metadata": {},
     "output_type": "execute_result"
    }
   ],
   "source": [
    "mf.Operator.unique()"
   ]
  },
  {
   "cell_type": "code",
   "execution_count": 10,
   "metadata": {},
   "outputs": [
    {
     "data": {
      "text/plain": [
       "count    8784.000000\n",
       "mean     1090.900387\n",
       "std       537.097769\n",
       "min       155.000000\n",
       "25%       629.000000\n",
       "50%      1096.000000\n",
       "75%      1555.000000\n",
       "max      2011.000000\n",
       "Name: Measure1, dtype: float64"
      ]
     },
     "execution_count": 10,
     "metadata": {},
     "output_type": "execute_result"
    }
   ],
   "source": [
    "mf.Measure1.describe()"
   ]
  },
  {
   "cell_type": "code",
   "execution_count": 11,
   "metadata": {},
   "outputs": [
    {
     "data": {
      "text/plain": [
       "count    8784.000000\n",
       "mean        1.489868\n",
       "std         1.115605\n",
       "min         0.000000\n",
       "25%         0.000000\n",
       "50%         1.000000\n",
       "75%         2.000000\n",
       "max         3.000000\n",
       "Name: Measure2, dtype: float64"
      ]
     },
     "execution_count": 11,
     "metadata": {},
     "output_type": "execute_result"
    }
   ],
   "source": [
    "mf.Measure2.describe()"
   ]
  },
  {
   "cell_type": "code",
   "execution_count": 12,
   "metadata": {},
   "outputs": [
    {
     "data": {
      "text/plain": [
       "count    8784.000000\n",
       "mean        0.999203\n",
       "std         0.816473\n",
       "min         0.000000\n",
       "25%         0.000000\n",
       "50%         1.000000\n",
       "75%         2.000000\n",
       "max         2.000000\n",
       "Name: Measure3, dtype: float64"
      ]
     },
     "execution_count": 12,
     "metadata": {},
     "output_type": "execute_result"
    }
   ],
   "source": [
    "mf.Measure3.describe()"
   ]
  },
  {
   "cell_type": "code",
   "execution_count": 13,
   "metadata": {},
   "outputs": [
    {
     "data": {
      "text/plain": [
       "count    8784.000000\n",
       "mean     1071.629895\n",
       "std       536.518466\n",
       "min       155.000000\n",
       "25%       608.750000\n",
       "50%      1058.000000\n",
       "75%      1533.000000\n",
       "max      2011.000000\n",
       "Name: Measure4, dtype: float64"
      ]
     },
     "execution_count": 13,
     "metadata": {},
     "output_type": "execute_result"
    }
   ],
   "source": [
    "mf.Measure4.describe()"
   ]
  },
  {
   "cell_type": "code",
   "execution_count": 14,
   "metadata": {},
   "outputs": [
    {
     "data": {
      "text/html": [
       "<div>\n",
       "<style scoped>\n",
       "    .dataframe tbody tr th:only-of-type {\n",
       "        vertical-align: middle;\n",
       "    }\n",
       "\n",
       "    .dataframe tbody tr th {\n",
       "        vertical-align: top;\n",
       "    }\n",
       "\n",
       "    .dataframe thead th {\n",
       "        text-align: right;\n",
       "    }\n",
       "</style>\n",
       "<table border=\"1\" class=\"dataframe\">\n",
       "  <thead>\n",
       "    <tr style=\"text-align: right;\">\n",
       "      <th></th>\n",
       "      <th>Temperature</th>\n",
       "      <th>Humidity</th>\n",
       "      <th>Measure1</th>\n",
       "      <th>Measure2</th>\n",
       "      <th>Measure3</th>\n",
       "      <th>Measure4</th>\n",
       "      <th>Measure5</th>\n",
       "      <th>Measure6</th>\n",
       "      <th>Measure7</th>\n",
       "      <th>Measure8</th>\n",
       "      <th>...</th>\n",
       "      <th>Measure14</th>\n",
       "      <th>Measure15</th>\n",
       "      <th>Hours Since Previous Failure</th>\n",
       "      <th>﻿Date.year</th>\n",
       "      <th>﻿Date.month</th>\n",
       "      <th>﻿Date.day-of-month</th>\n",
       "      <th>﻿Date.day-of-week</th>\n",
       "      <th>﻿Date.hour</th>\n",
       "      <th>﻿Date.minute</th>\n",
       "      <th>﻿Date.second</th>\n",
       "    </tr>\n",
       "  </thead>\n",
       "  <tbody>\n",
       "    <tr>\n",
       "      <th>count</th>\n",
       "      <td>8784.000000</td>\n",
       "      <td>8784.000000</td>\n",
       "      <td>8784.000000</td>\n",
       "      <td>8784.000000</td>\n",
       "      <td>8784.000000</td>\n",
       "      <td>8784.000000</td>\n",
       "      <td>8784.000000</td>\n",
       "      <td>8784.000000</td>\n",
       "      <td>8784.000000</td>\n",
       "      <td>8784.000000</td>\n",
       "      <td>...</td>\n",
       "      <td>8784.000000</td>\n",
       "      <td>8784.000000</td>\n",
       "      <td>8784.000000</td>\n",
       "      <td>8784.0</td>\n",
       "      <td>8784.000000</td>\n",
       "      <td>8784.000000</td>\n",
       "      <td>8784.000000</td>\n",
       "      <td>8784.000000</td>\n",
       "      <td>8784.0</td>\n",
       "      <td>8784.0</td>\n",
       "    </tr>\n",
       "    <tr>\n",
       "      <th>mean</th>\n",
       "      <td>64.026412</td>\n",
       "      <td>83.337090</td>\n",
       "      <td>1090.900387</td>\n",
       "      <td>1.489868</td>\n",
       "      <td>0.999203</td>\n",
       "      <td>1071.629895</td>\n",
       "      <td>1075.822860</td>\n",
       "      <td>1076.023793</td>\n",
       "      <td>1086.897086</td>\n",
       "      <td>1077.277209</td>\n",
       "      <td>...</td>\n",
       "      <td>1088.307377</td>\n",
       "      <td>1082.392304</td>\n",
       "      <td>217.341872</td>\n",
       "      <td>2016.0</td>\n",
       "      <td>6.513661</td>\n",
       "      <td>15.756831</td>\n",
       "      <td>4.008197</td>\n",
       "      <td>11.500000</td>\n",
       "      <td>0.0</td>\n",
       "      <td>0.0</td>\n",
       "    </tr>\n",
       "    <tr>\n",
       "      <th>std</th>\n",
       "      <td>2.868833</td>\n",
       "      <td>4.836256</td>\n",
       "      <td>537.097769</td>\n",
       "      <td>1.115605</td>\n",
       "      <td>0.816473</td>\n",
       "      <td>536.518466</td>\n",
       "      <td>533.158826</td>\n",
       "      <td>534.004966</td>\n",
       "      <td>538.195156</td>\n",
       "      <td>537.187671</td>\n",
       "      <td>...</td>\n",
       "      <td>537.264847</td>\n",
       "      <td>537.527604</td>\n",
       "      <td>151.751750</td>\n",
       "      <td>0.0</td>\n",
       "      <td>3.451430</td>\n",
       "      <td>8.812031</td>\n",
       "      <td>1.998047</td>\n",
       "      <td>6.922581</td>\n",
       "      <td>0.0</td>\n",
       "      <td>0.0</td>\n",
       "    </tr>\n",
       "    <tr>\n",
       "      <th>min</th>\n",
       "      <td>5.000000</td>\n",
       "      <td>65.000000</td>\n",
       "      <td>155.000000</td>\n",
       "      <td>0.000000</td>\n",
       "      <td>0.000000</td>\n",
       "      <td>155.000000</td>\n",
       "      <td>155.000000</td>\n",
       "      <td>155.000000</td>\n",
       "      <td>155.000000</td>\n",
       "      <td>155.000000</td>\n",
       "      <td>...</td>\n",
       "      <td>155.000000</td>\n",
       "      <td>155.000000</td>\n",
       "      <td>1.000000</td>\n",
       "      <td>2016.0</td>\n",
       "      <td>1.000000</td>\n",
       "      <td>1.000000</td>\n",
       "      <td>1.000000</td>\n",
       "      <td>0.000000</td>\n",
       "      <td>0.0</td>\n",
       "      <td>0.0</td>\n",
       "    </tr>\n",
       "    <tr>\n",
       "      <th>25%</th>\n",
       "      <td>62.000000</td>\n",
       "      <td>80.000000</td>\n",
       "      <td>629.000000</td>\n",
       "      <td>0.000000</td>\n",
       "      <td>0.000000</td>\n",
       "      <td>608.750000</td>\n",
       "      <td>606.000000</td>\n",
       "      <td>623.000000</td>\n",
       "      <td>621.000000</td>\n",
       "      <td>612.000000</td>\n",
       "      <td>...</td>\n",
       "      <td>617.000000</td>\n",
       "      <td>614.000000</td>\n",
       "      <td>90.000000</td>\n",
       "      <td>2016.0</td>\n",
       "      <td>4.000000</td>\n",
       "      <td>8.000000</td>\n",
       "      <td>2.000000</td>\n",
       "      <td>5.750000</td>\n",
       "      <td>0.0</td>\n",
       "      <td>0.0</td>\n",
       "    </tr>\n",
       "    <tr>\n",
       "      <th>50%</th>\n",
       "      <td>64.000000</td>\n",
       "      <td>83.000000</td>\n",
       "      <td>1096.000000</td>\n",
       "      <td>1.000000</td>\n",
       "      <td>1.000000</td>\n",
       "      <td>1058.000000</td>\n",
       "      <td>1077.000000</td>\n",
       "      <td>1072.000000</td>\n",
       "      <td>1089.000000</td>\n",
       "      <td>1074.000000</td>\n",
       "      <td>...</td>\n",
       "      <td>1088.500000</td>\n",
       "      <td>1076.000000</td>\n",
       "      <td>195.000000</td>\n",
       "      <td>2016.0</td>\n",
       "      <td>7.000000</td>\n",
       "      <td>16.000000</td>\n",
       "      <td>4.000000</td>\n",
       "      <td>11.500000</td>\n",
       "      <td>0.0</td>\n",
       "      <td>0.0</td>\n",
       "    </tr>\n",
       "    <tr>\n",
       "      <th>75%</th>\n",
       "      <td>66.000000</td>\n",
       "      <td>87.000000</td>\n",
       "      <td>1555.000000</td>\n",
       "      <td>2.000000</td>\n",
       "      <td>2.000000</td>\n",
       "      <td>1533.000000</td>\n",
       "      <td>1541.000000</td>\n",
       "      <td>1537.000000</td>\n",
       "      <td>1558.000000</td>\n",
       "      <td>1541.000000</td>\n",
       "      <td>...</td>\n",
       "      <td>1560.000000</td>\n",
       "      <td>1550.000000</td>\n",
       "      <td>324.000000</td>\n",
       "      <td>2016.0</td>\n",
       "      <td>10.000000</td>\n",
       "      <td>23.000000</td>\n",
       "      <td>6.000000</td>\n",
       "      <td>17.250000</td>\n",
       "      <td>0.0</td>\n",
       "      <td>0.0</td>\n",
       "    </tr>\n",
       "    <tr>\n",
       "      <th>max</th>\n",
       "      <td>78.000000</td>\n",
       "      <td>122.000000</td>\n",
       "      <td>2011.000000</td>\n",
       "      <td>3.000000</td>\n",
       "      <td>2.000000</td>\n",
       "      <td>2011.000000</td>\n",
       "      <td>2011.000000</td>\n",
       "      <td>2011.000000</td>\n",
       "      <td>2011.000000</td>\n",
       "      <td>2011.000000</td>\n",
       "      <td>...</td>\n",
       "      <td>2011.000000</td>\n",
       "      <td>2011.000000</td>\n",
       "      <td>666.000000</td>\n",
       "      <td>2016.0</td>\n",
       "      <td>12.000000</td>\n",
       "      <td>31.000000</td>\n",
       "      <td>7.000000</td>\n",
       "      <td>23.000000</td>\n",
       "      <td>0.0</td>\n",
       "      <td>0.0</td>\n",
       "    </tr>\n",
       "  </tbody>\n",
       "</table>\n",
       "<p>8 rows × 25 columns</p>\n",
       "</div>"
      ],
      "text/plain": [
       "       Temperature     Humidity     Measure1     Measure2     Measure3  \\\n",
       "count  8784.000000  8784.000000  8784.000000  8784.000000  8784.000000   \n",
       "mean     64.026412    83.337090  1090.900387     1.489868     0.999203   \n",
       "std       2.868833     4.836256   537.097769     1.115605     0.816473   \n",
       "min       5.000000    65.000000   155.000000     0.000000     0.000000   \n",
       "25%      62.000000    80.000000   629.000000     0.000000     0.000000   \n",
       "50%      64.000000    83.000000  1096.000000     1.000000     1.000000   \n",
       "75%      66.000000    87.000000  1555.000000     2.000000     2.000000   \n",
       "max      78.000000   122.000000  2011.000000     3.000000     2.000000   \n",
       "\n",
       "          Measure4     Measure5     Measure6     Measure7     Measure8  ...  \\\n",
       "count  8784.000000  8784.000000  8784.000000  8784.000000  8784.000000  ...   \n",
       "mean   1071.629895  1075.822860  1076.023793  1086.897086  1077.277209  ...   \n",
       "std     536.518466   533.158826   534.004966   538.195156   537.187671  ...   \n",
       "min     155.000000   155.000000   155.000000   155.000000   155.000000  ...   \n",
       "25%     608.750000   606.000000   623.000000   621.000000   612.000000  ...   \n",
       "50%    1058.000000  1077.000000  1072.000000  1089.000000  1074.000000  ...   \n",
       "75%    1533.000000  1541.000000  1537.000000  1558.000000  1541.000000  ...   \n",
       "max    2011.000000  2011.000000  2011.000000  2011.000000  2011.000000  ...   \n",
       "\n",
       "         Measure14    Measure15  Hours Since Previous Failure  ﻿Date.year  \\\n",
       "count  8784.000000  8784.000000                   8784.000000      8784.0   \n",
       "mean   1088.307377  1082.392304                    217.341872      2016.0   \n",
       "std     537.264847   537.527604                    151.751750         0.0   \n",
       "min     155.000000   155.000000                      1.000000      2016.0   \n",
       "25%     617.000000   614.000000                     90.000000      2016.0   \n",
       "50%    1088.500000  1076.000000                    195.000000      2016.0   \n",
       "75%    1560.000000  1550.000000                    324.000000      2016.0   \n",
       "max    2011.000000  2011.000000                    666.000000      2016.0   \n",
       "\n",
       "       ﻿Date.month  ﻿Date.day-of-month  ﻿Date.day-of-week   ﻿Date.hour  \\\n",
       "count  8784.000000         8784.000000        8784.000000  8784.000000   \n",
       "mean      6.513661           15.756831           4.008197    11.500000   \n",
       "std       3.451430            8.812031           1.998047     6.922581   \n",
       "min       1.000000            1.000000           1.000000     0.000000   \n",
       "25%       4.000000            8.000000           2.000000     5.750000   \n",
       "50%       7.000000           16.000000           4.000000    11.500000   \n",
       "75%      10.000000           23.000000           6.000000    17.250000   \n",
       "max      12.000000           31.000000           7.000000    23.000000   \n",
       "\n",
       "       ﻿Date.minute  ﻿Date.second  \n",
       "count        8784.0        8784.0  \n",
       "mean            0.0           0.0  \n",
       "std             0.0           0.0  \n",
       "min             0.0           0.0  \n",
       "25%             0.0           0.0  \n",
       "50%             0.0           0.0  \n",
       "75%             0.0           0.0  \n",
       "max             0.0           0.0  \n",
       "\n",
       "[8 rows x 25 columns]"
      ]
     },
     "execution_count": 14,
     "metadata": {},
     "output_type": "execute_result"
    }
   ],
   "source": [
    "mf.describe()"
   ]
  },
  {
   "cell_type": "code",
   "execution_count": 15,
   "metadata": {},
   "outputs": [
    {
     "data": {
      "text/plain": [
       "count    8784.000000\n",
       "mean     1082.014572\n",
       "std       532.983115\n",
       "min       155.000000\n",
       "25%       631.000000\n",
       "50%      1078.000000\n",
       "75%      1532.000000\n",
       "max      2011.000000\n",
       "Name: Measure9, dtype: float64"
      ]
     },
     "execution_count": 15,
     "metadata": {},
     "output_type": "execute_result"
    }
   ],
   "source": [
    "mf.Measure9.describe()"
   ]
  },
  {
   "cell_type": "code",
   "execution_count": 16,
   "metadata": {},
   "outputs": [
    {
     "data": {
      "text/plain": [
       "count    8784.000000\n",
       "mean     1082.403005\n",
       "std       537.582829\n",
       "min       155.000000\n",
       "25%       619.000000\n",
       "50%      1080.000000\n",
       "75%      1547.000000\n",
       "max      2011.000000\n",
       "Name: Measure10, dtype: float64"
      ]
     },
     "execution_count": 16,
     "metadata": {},
     "output_type": "execute_result"
    }
   ],
   "source": [
    "mf.Measure10.describe()"
   ]
  },
  {
   "cell_type": "code",
   "execution_count": 17,
   "metadata": {},
   "outputs": [
    {
     "data": {
      "text/plain": [
       "count    8784.000000\n",
       "mean     1088.719148\n",
       "std       534.995992\n",
       "min       155.000000\n",
       "25%       627.000000\n",
       "50%      1093.000000\n",
       "75%      1550.000000\n",
       "max      2011.000000\n",
       "Name: Measure11, dtype: float64"
      ]
     },
     "execution_count": 17,
     "metadata": {},
     "output_type": "execute_result"
    }
   ],
   "source": [
    "mf.Measure11.describe()"
   ]
  },
  {
   "cell_type": "code",
   "execution_count": 18,
   "metadata": {},
   "outputs": [
    {
     "data": {
      "text/plain": [
       "count    8784.000000\n",
       "mean     1088.329349\n",
       "std       533.299486\n",
       "min       155.000000\n",
       "25%       627.000000\n",
       "50%      1082.000000\n",
       "75%      1552.000000\n",
       "max      2011.000000\n",
       "Name: Measure12, dtype: float64"
      ]
     },
     "execution_count": 18,
     "metadata": {},
     "output_type": "execute_result"
    }
   ],
   "source": [
    "mf.Measure12.describe()"
   ]
  },
  {
   "cell_type": "code",
   "execution_count": 19,
   "metadata": {},
   "outputs": [
    {
     "data": {
      "text/plain": [
       "count    8784.000000\n",
       "mean     1088.329349\n",
       "std       533.299486\n",
       "min       155.000000\n",
       "25%       627.000000\n",
       "50%      1082.000000\n",
       "75%      1552.000000\n",
       "max      2011.000000\n",
       "Name: Measure12, dtype: float64"
      ]
     },
     "execution_count": 19,
     "metadata": {},
     "output_type": "execute_result"
    }
   ],
   "source": [
    "mf.Measure12.describe()"
   ]
  },
  {
   "cell_type": "code",
   "execution_count": 20,
   "metadata": {},
   "outputs": [
    {
     "data": {
      "text/plain": [
       "count    8784.000000\n",
       "mean     1076.755806\n",
       "std       535.111353\n",
       "min       155.000000\n",
       "25%       609.000000\n",
       "50%      1067.000000\n",
       "75%      1539.000000\n",
       "max      2011.000000\n",
       "Name: Measure13, dtype: float64"
      ]
     },
     "execution_count": 20,
     "metadata": {},
     "output_type": "execute_result"
    }
   ],
   "source": [
    "mf.Measure13.describe()"
   ]
  },
  {
   "cell_type": "code",
   "execution_count": 21,
   "metadata": {},
   "outputs": [
    {
     "data": {
      "text/plain": [
       "Index([], dtype='object')"
      ]
     },
     "execution_count": 21,
     "metadata": {},
     "output_type": "execute_result"
    }
   ],
   "source": [
    "mf.columns[mf.isnull().any()]"
   ]
  },
  {
   "cell_type": "code",
   "execution_count": 22,
   "metadata": {},
   "outputs": [
    {
     "data": {
      "text/plain": [
       "Date                            object\n",
       "Temperature                      int64\n",
       "Humidity                         int64\n",
       "Operator                        object\n",
       "Measure1                         int64\n",
       "Measure2                         int64\n",
       "Measure3                         int64\n",
       "Measure4                         int64\n",
       "Measure5                         int64\n",
       "Measure6                         int64\n",
       "Measure7                         int64\n",
       "Measure8                         int64\n",
       "Measure9                         int64\n",
       "Measure10                        int64\n",
       "Measure11                        int64\n",
       "Measure12                        int64\n",
       "Measure13                        int64\n",
       "Measure14                        int64\n",
       "Measure15                        int64\n",
       "Hours Since Previous Failure     int64\n",
       "Failure                         object\n",
       "﻿Date.year                       int64\n",
       "﻿Date.month                      int64\n",
       "﻿Date.day-of-month               int64\n",
       "﻿Date.day-of-week                int64\n",
       "﻿Date.hour                       int64\n",
       "﻿Date.minute                     int64\n",
       "﻿Date.second                     int64\n",
       "dtype: object"
      ]
     },
     "execution_count": 22,
     "metadata": {},
     "output_type": "execute_result"
    }
   ],
   "source": [
    "mf.dtypes"
   ]
  },
  {
   "cell_type": "code",
   "execution_count": 23,
   "metadata": {},
   "outputs": [],
   "source": [
    "mf.drop(mf.columns[len(mf.columns)-1], axis=1, inplace=True)\n",
    "mf.drop(mf.columns[len(mf.columns)-1], axis=1, inplace=True)\n",
    "mf.drop(mf.columns[len(mf.columns)-1], axis=1, inplace=True)\n",
    "mf.drop(mf.columns[len(mf.columns)-1], axis=1, inplace=True)\n",
    "mf.drop(mf.columns[len(mf.columns)-1], axis=1, inplace=True)\n",
    "mf.drop(mf.columns[len(mf.columns)-1], axis=1, inplace=True)"
   ]
  },
  {
   "cell_type": "code",
   "execution_count": 24,
   "metadata": {},
   "outputs": [
    {
     "data": {
      "text/html": [
       "<div>\n",
       "<style scoped>\n",
       "    .dataframe tbody tr th:only-of-type {\n",
       "        vertical-align: middle;\n",
       "    }\n",
       "\n",
       "    .dataframe tbody tr th {\n",
       "        vertical-align: top;\n",
       "    }\n",
       "\n",
       "    .dataframe thead th {\n",
       "        text-align: right;\n",
       "    }\n",
       "</style>\n",
       "<table border=\"1\" class=\"dataframe\">\n",
       "  <thead>\n",
       "    <tr style=\"text-align: right;\">\n",
       "      <th></th>\n",
       "      <th>Date</th>\n",
       "      <th>Temperature</th>\n",
       "      <th>Humidity</th>\n",
       "      <th>Operator</th>\n",
       "      <th>Measure1</th>\n",
       "      <th>Measure2</th>\n",
       "      <th>Measure3</th>\n",
       "      <th>Measure4</th>\n",
       "      <th>Measure5</th>\n",
       "      <th>Measure6</th>\n",
       "      <th>...</th>\n",
       "      <th>Measure9</th>\n",
       "      <th>Measure10</th>\n",
       "      <th>Measure11</th>\n",
       "      <th>Measure12</th>\n",
       "      <th>Measure13</th>\n",
       "      <th>Measure14</th>\n",
       "      <th>Measure15</th>\n",
       "      <th>Hours Since Previous Failure</th>\n",
       "      <th>Failure</th>\n",
       "      <th>﻿Date.year</th>\n",
       "    </tr>\n",
       "  </thead>\n",
       "  <tbody>\n",
       "    <tr>\n",
       "      <th>0</th>\n",
       "      <td>2016-01-01 00:00:00</td>\n",
       "      <td>67</td>\n",
       "      <td>82</td>\n",
       "      <td>Operator1</td>\n",
       "      <td>291</td>\n",
       "      <td>1</td>\n",
       "      <td>1</td>\n",
       "      <td>1041</td>\n",
       "      <td>846</td>\n",
       "      <td>334</td>\n",
       "      <td>...</td>\n",
       "      <td>256</td>\n",
       "      <td>1295</td>\n",
       "      <td>766</td>\n",
       "      <td>968</td>\n",
       "      <td>1185</td>\n",
       "      <td>1355</td>\n",
       "      <td>1842</td>\n",
       "      <td>90</td>\n",
       "      <td>No</td>\n",
       "      <td>2016</td>\n",
       "    </tr>\n",
       "    <tr>\n",
       "      <th>1</th>\n",
       "      <td>2016-01-01 01:00:00</td>\n",
       "      <td>68</td>\n",
       "      <td>77</td>\n",
       "      <td>Operator1</td>\n",
       "      <td>1180</td>\n",
       "      <td>1</td>\n",
       "      <td>1</td>\n",
       "      <td>1915</td>\n",
       "      <td>1194</td>\n",
       "      <td>637</td>\n",
       "      <td>...</td>\n",
       "      <td>919</td>\n",
       "      <td>245</td>\n",
       "      <td>403</td>\n",
       "      <td>723</td>\n",
       "      <td>1446</td>\n",
       "      <td>719</td>\n",
       "      <td>748</td>\n",
       "      <td>91</td>\n",
       "      <td>No</td>\n",
       "      <td>2016</td>\n",
       "    </tr>\n",
       "    <tr>\n",
       "      <th>2</th>\n",
       "      <td>2016-01-01 02:00:00</td>\n",
       "      <td>64</td>\n",
       "      <td>76</td>\n",
       "      <td>Operator1</td>\n",
       "      <td>1406</td>\n",
       "      <td>1</td>\n",
       "      <td>1</td>\n",
       "      <td>511</td>\n",
       "      <td>1577</td>\n",
       "      <td>1121</td>\n",
       "      <td>...</td>\n",
       "      <td>1301</td>\n",
       "      <td>273</td>\n",
       "      <td>1927</td>\n",
       "      <td>1123</td>\n",
       "      <td>717</td>\n",
       "      <td>1518</td>\n",
       "      <td>1689</td>\n",
       "      <td>92</td>\n",
       "      <td>No</td>\n",
       "      <td>2016</td>\n",
       "    </tr>\n",
       "    <tr>\n",
       "      <th>3</th>\n",
       "      <td>2016-01-01 03:00:00</td>\n",
       "      <td>63</td>\n",
       "      <td>80</td>\n",
       "      <td>Operator1</td>\n",
       "      <td>550</td>\n",
       "      <td>1</td>\n",
       "      <td>1</td>\n",
       "      <td>1754</td>\n",
       "      <td>1834</td>\n",
       "      <td>1413</td>\n",
       "      <td>...</td>\n",
       "      <td>1312</td>\n",
       "      <td>1494</td>\n",
       "      <td>1755</td>\n",
       "      <td>1434</td>\n",
       "      <td>502</td>\n",
       "      <td>1336</td>\n",
       "      <td>711</td>\n",
       "      <td>93</td>\n",
       "      <td>No</td>\n",
       "      <td>2016</td>\n",
       "    </tr>\n",
       "    <tr>\n",
       "      <th>4</th>\n",
       "      <td>2016-01-01 04:00:00</td>\n",
       "      <td>65</td>\n",
       "      <td>81</td>\n",
       "      <td>Operator1</td>\n",
       "      <td>1928</td>\n",
       "      <td>1</td>\n",
       "      <td>2</td>\n",
       "      <td>1326</td>\n",
       "      <td>1082</td>\n",
       "      <td>233</td>\n",
       "      <td>...</td>\n",
       "      <td>1033</td>\n",
       "      <td>1549</td>\n",
       "      <td>802</td>\n",
       "      <td>1819</td>\n",
       "      <td>1616</td>\n",
       "      <td>1507</td>\n",
       "      <td>507</td>\n",
       "      <td>94</td>\n",
       "      <td>No</td>\n",
       "      <td>2016</td>\n",
       "    </tr>\n",
       "  </tbody>\n",
       "</table>\n",
       "<p>5 rows × 22 columns</p>\n",
       "</div>"
      ],
      "text/plain": [
       "                  Date  Temperature  Humidity   Operator  Measure1  Measure2  \\\n",
       "0  2016-01-01 00:00:00           67        82  Operator1       291         1   \n",
       "1  2016-01-01 01:00:00           68        77  Operator1      1180         1   \n",
       "2  2016-01-01 02:00:00           64        76  Operator1      1406         1   \n",
       "3  2016-01-01 03:00:00           63        80  Operator1       550         1   \n",
       "4  2016-01-01 04:00:00           65        81  Operator1      1928         1   \n",
       "\n",
       "   Measure3  Measure4  Measure5  Measure6  ...  Measure9  Measure10  \\\n",
       "0         1      1041       846       334  ...       256       1295   \n",
       "1         1      1915      1194       637  ...       919        245   \n",
       "2         1       511      1577      1121  ...      1301        273   \n",
       "3         1      1754      1834      1413  ...      1312       1494   \n",
       "4         2      1326      1082       233  ...      1033       1549   \n",
       "\n",
       "   Measure11  Measure12  Measure13  Measure14  Measure15  \\\n",
       "0        766        968       1185       1355       1842   \n",
       "1        403        723       1446        719        748   \n",
       "2       1927       1123        717       1518       1689   \n",
       "3       1755       1434        502       1336        711   \n",
       "4        802       1819       1616       1507        507   \n",
       "\n",
       "   Hours Since Previous Failure  Failure  ﻿Date.year  \n",
       "0                            90       No        2016  \n",
       "1                            91       No        2016  \n",
       "2                            92       No        2016  \n",
       "3                            93       No        2016  \n",
       "4                            94       No        2016  \n",
       "\n",
       "[5 rows x 22 columns]"
      ]
     },
     "execution_count": 24,
     "metadata": {},
     "output_type": "execute_result"
    }
   ],
   "source": [
    "mf.head()"
   ]
  },
  {
   "cell_type": "code",
   "execution_count": 25,
   "metadata": {},
   "outputs": [],
   "source": [
    "mf.drop(mf.columns[len(mf.columns)-1], axis=1, inplace=True)"
   ]
  },
  {
   "cell_type": "code",
   "execution_count": 26,
   "metadata": {},
   "outputs": [
    {
     "data": {
      "text/html": [
       "<div>\n",
       "<style scoped>\n",
       "    .dataframe tbody tr th:only-of-type {\n",
       "        vertical-align: middle;\n",
       "    }\n",
       "\n",
       "    .dataframe tbody tr th {\n",
       "        vertical-align: top;\n",
       "    }\n",
       "\n",
       "    .dataframe thead th {\n",
       "        text-align: right;\n",
       "    }\n",
       "</style>\n",
       "<table border=\"1\" class=\"dataframe\">\n",
       "  <thead>\n",
       "    <tr style=\"text-align: right;\">\n",
       "      <th></th>\n",
       "      <th>Date</th>\n",
       "      <th>Temperature</th>\n",
       "      <th>Humidity</th>\n",
       "      <th>Operator</th>\n",
       "      <th>Measure1</th>\n",
       "      <th>Measure2</th>\n",
       "      <th>Measure3</th>\n",
       "      <th>Measure4</th>\n",
       "      <th>Measure5</th>\n",
       "      <th>Measure6</th>\n",
       "      <th>...</th>\n",
       "      <th>Measure8</th>\n",
       "      <th>Measure9</th>\n",
       "      <th>Measure10</th>\n",
       "      <th>Measure11</th>\n",
       "      <th>Measure12</th>\n",
       "      <th>Measure13</th>\n",
       "      <th>Measure14</th>\n",
       "      <th>Measure15</th>\n",
       "      <th>Hours Since Previous Failure</th>\n",
       "      <th>Failure</th>\n",
       "    </tr>\n",
       "  </thead>\n",
       "  <tbody>\n",
       "    <tr>\n",
       "      <th>0</th>\n",
       "      <td>2016-01-01 00:00:00</td>\n",
       "      <td>67</td>\n",
       "      <td>82</td>\n",
       "      <td>Operator1</td>\n",
       "      <td>291</td>\n",
       "      <td>1</td>\n",
       "      <td>1</td>\n",
       "      <td>1041</td>\n",
       "      <td>846</td>\n",
       "      <td>334</td>\n",
       "      <td>...</td>\n",
       "      <td>1086</td>\n",
       "      <td>256</td>\n",
       "      <td>1295</td>\n",
       "      <td>766</td>\n",
       "      <td>968</td>\n",
       "      <td>1185</td>\n",
       "      <td>1355</td>\n",
       "      <td>1842</td>\n",
       "      <td>90</td>\n",
       "      <td>No</td>\n",
       "    </tr>\n",
       "    <tr>\n",
       "      <th>1</th>\n",
       "      <td>2016-01-01 01:00:00</td>\n",
       "      <td>68</td>\n",
       "      <td>77</td>\n",
       "      <td>Operator1</td>\n",
       "      <td>1180</td>\n",
       "      <td>1</td>\n",
       "      <td>1</td>\n",
       "      <td>1915</td>\n",
       "      <td>1194</td>\n",
       "      <td>637</td>\n",
       "      <td>...</td>\n",
       "      <td>524</td>\n",
       "      <td>919</td>\n",
       "      <td>245</td>\n",
       "      <td>403</td>\n",
       "      <td>723</td>\n",
       "      <td>1446</td>\n",
       "      <td>719</td>\n",
       "      <td>748</td>\n",
       "      <td>91</td>\n",
       "      <td>No</td>\n",
       "    </tr>\n",
       "    <tr>\n",
       "      <th>2</th>\n",
       "      <td>2016-01-01 02:00:00</td>\n",
       "      <td>64</td>\n",
       "      <td>76</td>\n",
       "      <td>Operator1</td>\n",
       "      <td>1406</td>\n",
       "      <td>1</td>\n",
       "      <td>1</td>\n",
       "      <td>511</td>\n",
       "      <td>1577</td>\n",
       "      <td>1121</td>\n",
       "      <td>...</td>\n",
       "      <td>1882</td>\n",
       "      <td>1301</td>\n",
       "      <td>273</td>\n",
       "      <td>1927</td>\n",
       "      <td>1123</td>\n",
       "      <td>717</td>\n",
       "      <td>1518</td>\n",
       "      <td>1689</td>\n",
       "      <td>92</td>\n",
       "      <td>No</td>\n",
       "    </tr>\n",
       "    <tr>\n",
       "      <th>3</th>\n",
       "      <td>2016-01-01 03:00:00</td>\n",
       "      <td>63</td>\n",
       "      <td>80</td>\n",
       "      <td>Operator1</td>\n",
       "      <td>550</td>\n",
       "      <td>1</td>\n",
       "      <td>1</td>\n",
       "      <td>1754</td>\n",
       "      <td>1834</td>\n",
       "      <td>1413</td>\n",
       "      <td>...</td>\n",
       "      <td>945</td>\n",
       "      <td>1312</td>\n",
       "      <td>1494</td>\n",
       "      <td>1755</td>\n",
       "      <td>1434</td>\n",
       "      <td>502</td>\n",
       "      <td>1336</td>\n",
       "      <td>711</td>\n",
       "      <td>93</td>\n",
       "      <td>No</td>\n",
       "    </tr>\n",
       "    <tr>\n",
       "      <th>4</th>\n",
       "      <td>2016-01-01 04:00:00</td>\n",
       "      <td>65</td>\n",
       "      <td>81</td>\n",
       "      <td>Operator1</td>\n",
       "      <td>1928</td>\n",
       "      <td>1</td>\n",
       "      <td>2</td>\n",
       "      <td>1326</td>\n",
       "      <td>1082</td>\n",
       "      <td>233</td>\n",
       "      <td>...</td>\n",
       "      <td>1736</td>\n",
       "      <td>1033</td>\n",
       "      <td>1549</td>\n",
       "      <td>802</td>\n",
       "      <td>1819</td>\n",
       "      <td>1616</td>\n",
       "      <td>1507</td>\n",
       "      <td>507</td>\n",
       "      <td>94</td>\n",
       "      <td>No</td>\n",
       "    </tr>\n",
       "  </tbody>\n",
       "</table>\n",
       "<p>5 rows × 21 columns</p>\n",
       "</div>"
      ],
      "text/plain": [
       "                  Date  Temperature  Humidity   Operator  Measure1  Measure2  \\\n",
       "0  2016-01-01 00:00:00           67        82  Operator1       291         1   \n",
       "1  2016-01-01 01:00:00           68        77  Operator1      1180         1   \n",
       "2  2016-01-01 02:00:00           64        76  Operator1      1406         1   \n",
       "3  2016-01-01 03:00:00           63        80  Operator1       550         1   \n",
       "4  2016-01-01 04:00:00           65        81  Operator1      1928         1   \n",
       "\n",
       "   Measure3  Measure4  Measure5  Measure6  ...  Measure8  Measure9  Measure10  \\\n",
       "0         1      1041       846       334  ...      1086       256       1295   \n",
       "1         1      1915      1194       637  ...       524       919        245   \n",
       "2         1       511      1577      1121  ...      1882      1301        273   \n",
       "3         1      1754      1834      1413  ...       945      1312       1494   \n",
       "4         2      1326      1082       233  ...      1736      1033       1549   \n",
       "\n",
       "   Measure11  Measure12  Measure13  Measure14  Measure15  \\\n",
       "0        766        968       1185       1355       1842   \n",
       "1        403        723       1446        719        748   \n",
       "2       1927       1123        717       1518       1689   \n",
       "3       1755       1434        502       1336        711   \n",
       "4        802       1819       1616       1507        507   \n",
       "\n",
       "   Hours Since Previous Failure  Failure  \n",
       "0                            90       No  \n",
       "1                            91       No  \n",
       "2                            92       No  \n",
       "3                            93       No  \n",
       "4                            94       No  \n",
       "\n",
       "[5 rows x 21 columns]"
      ]
     },
     "execution_count": 26,
     "metadata": {},
     "output_type": "execute_result"
    }
   ],
   "source": [
    "mf.head()"
   ]
  },
  {
   "cell_type": "code",
   "execution_count": 27,
   "metadata": {},
   "outputs": [],
   "source": [
    "mf['Date'] = pd.to_datetime(mf['Date'])"
   ]
  },
  {
   "cell_type": "code",
   "execution_count": 28,
   "metadata": {},
   "outputs": [],
   "source": [
    "mf['month'] = mf['Date'].dt.month\n",
    "mf['date'] = mf['Date'].dt.day\n",
    "mf['hour'] = mf['Date'].dt.hour\n",
    "mf['dayOfWeek'] = mf['Date'].dt.day_name()"
   ]
  },
  {
   "cell_type": "code",
   "execution_count": 29,
   "metadata": {},
   "outputs": [
    {
     "data": {
      "text/html": [
       "<div>\n",
       "<style scoped>\n",
       "    .dataframe tbody tr th:only-of-type {\n",
       "        vertical-align: middle;\n",
       "    }\n",
       "\n",
       "    .dataframe tbody tr th {\n",
       "        vertical-align: top;\n",
       "    }\n",
       "\n",
       "    .dataframe thead th {\n",
       "        text-align: right;\n",
       "    }\n",
       "</style>\n",
       "<table border=\"1\" class=\"dataframe\">\n",
       "  <thead>\n",
       "    <tr style=\"text-align: right;\">\n",
       "      <th></th>\n",
       "      <th>Date</th>\n",
       "      <th>Temperature</th>\n",
       "      <th>Humidity</th>\n",
       "      <th>Operator</th>\n",
       "      <th>Measure1</th>\n",
       "      <th>Measure2</th>\n",
       "      <th>Measure3</th>\n",
       "      <th>Measure4</th>\n",
       "      <th>Measure5</th>\n",
       "      <th>Measure6</th>\n",
       "      <th>...</th>\n",
       "      <th>Measure12</th>\n",
       "      <th>Measure13</th>\n",
       "      <th>Measure14</th>\n",
       "      <th>Measure15</th>\n",
       "      <th>Hours Since Previous Failure</th>\n",
       "      <th>Failure</th>\n",
       "      <th>month</th>\n",
       "      <th>date</th>\n",
       "      <th>hour</th>\n",
       "      <th>dayOfWeek</th>\n",
       "    </tr>\n",
       "  </thead>\n",
       "  <tbody>\n",
       "    <tr>\n",
       "      <th>0</th>\n",
       "      <td>2016-01-01 00:00:00</td>\n",
       "      <td>67</td>\n",
       "      <td>82</td>\n",
       "      <td>Operator1</td>\n",
       "      <td>291</td>\n",
       "      <td>1</td>\n",
       "      <td>1</td>\n",
       "      <td>1041</td>\n",
       "      <td>846</td>\n",
       "      <td>334</td>\n",
       "      <td>...</td>\n",
       "      <td>968</td>\n",
       "      <td>1185</td>\n",
       "      <td>1355</td>\n",
       "      <td>1842</td>\n",
       "      <td>90</td>\n",
       "      <td>No</td>\n",
       "      <td>1</td>\n",
       "      <td>1</td>\n",
       "      <td>0</td>\n",
       "      <td>Friday</td>\n",
       "    </tr>\n",
       "    <tr>\n",
       "      <th>1</th>\n",
       "      <td>2016-01-01 01:00:00</td>\n",
       "      <td>68</td>\n",
       "      <td>77</td>\n",
       "      <td>Operator1</td>\n",
       "      <td>1180</td>\n",
       "      <td>1</td>\n",
       "      <td>1</td>\n",
       "      <td>1915</td>\n",
       "      <td>1194</td>\n",
       "      <td>637</td>\n",
       "      <td>...</td>\n",
       "      <td>723</td>\n",
       "      <td>1446</td>\n",
       "      <td>719</td>\n",
       "      <td>748</td>\n",
       "      <td>91</td>\n",
       "      <td>No</td>\n",
       "      <td>1</td>\n",
       "      <td>1</td>\n",
       "      <td>1</td>\n",
       "      <td>Friday</td>\n",
       "    </tr>\n",
       "    <tr>\n",
       "      <th>2</th>\n",
       "      <td>2016-01-01 02:00:00</td>\n",
       "      <td>64</td>\n",
       "      <td>76</td>\n",
       "      <td>Operator1</td>\n",
       "      <td>1406</td>\n",
       "      <td>1</td>\n",
       "      <td>1</td>\n",
       "      <td>511</td>\n",
       "      <td>1577</td>\n",
       "      <td>1121</td>\n",
       "      <td>...</td>\n",
       "      <td>1123</td>\n",
       "      <td>717</td>\n",
       "      <td>1518</td>\n",
       "      <td>1689</td>\n",
       "      <td>92</td>\n",
       "      <td>No</td>\n",
       "      <td>1</td>\n",
       "      <td>1</td>\n",
       "      <td>2</td>\n",
       "      <td>Friday</td>\n",
       "    </tr>\n",
       "    <tr>\n",
       "      <th>3</th>\n",
       "      <td>2016-01-01 03:00:00</td>\n",
       "      <td>63</td>\n",
       "      <td>80</td>\n",
       "      <td>Operator1</td>\n",
       "      <td>550</td>\n",
       "      <td>1</td>\n",
       "      <td>1</td>\n",
       "      <td>1754</td>\n",
       "      <td>1834</td>\n",
       "      <td>1413</td>\n",
       "      <td>...</td>\n",
       "      <td>1434</td>\n",
       "      <td>502</td>\n",
       "      <td>1336</td>\n",
       "      <td>711</td>\n",
       "      <td>93</td>\n",
       "      <td>No</td>\n",
       "      <td>1</td>\n",
       "      <td>1</td>\n",
       "      <td>3</td>\n",
       "      <td>Friday</td>\n",
       "    </tr>\n",
       "    <tr>\n",
       "      <th>4</th>\n",
       "      <td>2016-01-01 04:00:00</td>\n",
       "      <td>65</td>\n",
       "      <td>81</td>\n",
       "      <td>Operator1</td>\n",
       "      <td>1928</td>\n",
       "      <td>1</td>\n",
       "      <td>2</td>\n",
       "      <td>1326</td>\n",
       "      <td>1082</td>\n",
       "      <td>233</td>\n",
       "      <td>...</td>\n",
       "      <td>1819</td>\n",
       "      <td>1616</td>\n",
       "      <td>1507</td>\n",
       "      <td>507</td>\n",
       "      <td>94</td>\n",
       "      <td>No</td>\n",
       "      <td>1</td>\n",
       "      <td>1</td>\n",
       "      <td>4</td>\n",
       "      <td>Friday</td>\n",
       "    </tr>\n",
       "  </tbody>\n",
       "</table>\n",
       "<p>5 rows × 25 columns</p>\n",
       "</div>"
      ],
      "text/plain": [
       "                 Date  Temperature  Humidity   Operator  Measure1  Measure2  \\\n",
       "0 2016-01-01 00:00:00           67        82  Operator1       291         1   \n",
       "1 2016-01-01 01:00:00           68        77  Operator1      1180         1   \n",
       "2 2016-01-01 02:00:00           64        76  Operator1      1406         1   \n",
       "3 2016-01-01 03:00:00           63        80  Operator1       550         1   \n",
       "4 2016-01-01 04:00:00           65        81  Operator1      1928         1   \n",
       "\n",
       "   Measure3  Measure4  Measure5  Measure6  ...  Measure12  Measure13  \\\n",
       "0         1      1041       846       334  ...        968       1185   \n",
       "1         1      1915      1194       637  ...        723       1446   \n",
       "2         1       511      1577      1121  ...       1123        717   \n",
       "3         1      1754      1834      1413  ...       1434        502   \n",
       "4         2      1326      1082       233  ...       1819       1616   \n",
       "\n",
       "   Measure14  Measure15  Hours Since Previous Failure  Failure  month  date  \\\n",
       "0       1355       1842                            90       No      1     1   \n",
       "1        719        748                            91       No      1     1   \n",
       "2       1518       1689                            92       No      1     1   \n",
       "3       1336        711                            93       No      1     1   \n",
       "4       1507        507                            94       No      1     1   \n",
       "\n",
       "   hour  dayOfWeek  \n",
       "0     0     Friday  \n",
       "1     1     Friday  \n",
       "2     2     Friday  \n",
       "3     3     Friday  \n",
       "4     4     Friday  \n",
       "\n",
       "[5 rows x 25 columns]"
      ]
     },
     "execution_count": 29,
     "metadata": {},
     "output_type": "execute_result"
    }
   ],
   "source": [
    "mf.head()"
   ]
  },
  {
   "cell_type": "code",
   "execution_count": 30,
   "metadata": {},
   "outputs": [
    {
     "data": {
      "text/html": [
       "<div>\n",
       "<style scoped>\n",
       "    .dataframe tbody tr th:only-of-type {\n",
       "        vertical-align: middle;\n",
       "    }\n",
       "\n",
       "    .dataframe tbody tr th {\n",
       "        vertical-align: top;\n",
       "    }\n",
       "\n",
       "    .dataframe thead th {\n",
       "        text-align: right;\n",
       "    }\n",
       "</style>\n",
       "<table border=\"1\" class=\"dataframe\">\n",
       "  <thead>\n",
       "    <tr style=\"text-align: right;\">\n",
       "      <th></th>\n",
       "      <th>Date</th>\n",
       "      <th>Temperature</th>\n",
       "      <th>Humidity</th>\n",
       "      <th>Operator</th>\n",
       "      <th>Measure1</th>\n",
       "      <th>Measure2</th>\n",
       "      <th>Measure3</th>\n",
       "      <th>Measure4</th>\n",
       "      <th>Measure5</th>\n",
       "      <th>Measure6</th>\n",
       "      <th>...</th>\n",
       "      <th>Measure12</th>\n",
       "      <th>Measure13</th>\n",
       "      <th>Measure14</th>\n",
       "      <th>Measure15</th>\n",
       "      <th>Hours Since Previous Failure</th>\n",
       "      <th>Failure</th>\n",
       "      <th>month</th>\n",
       "      <th>date</th>\n",
       "      <th>hour</th>\n",
       "      <th>dayOfWeek</th>\n",
       "    </tr>\n",
       "  </thead>\n",
       "  <tbody>\n",
       "    <tr>\n",
       "      <th>0</th>\n",
       "      <td>2016-01-01 00:00:00</td>\n",
       "      <td>67</td>\n",
       "      <td>82</td>\n",
       "      <td>Operator1</td>\n",
       "      <td>291</td>\n",
       "      <td>1</td>\n",
       "      <td>1</td>\n",
       "      <td>1041</td>\n",
       "      <td>846</td>\n",
       "      <td>334</td>\n",
       "      <td>...</td>\n",
       "      <td>968</td>\n",
       "      <td>1185</td>\n",
       "      <td>1355</td>\n",
       "      <td>1842</td>\n",
       "      <td>90</td>\n",
       "      <td>No</td>\n",
       "      <td>1</td>\n",
       "      <td>1</td>\n",
       "      <td>0</td>\n",
       "      <td>5</td>\n",
       "    </tr>\n",
       "    <tr>\n",
       "      <th>1</th>\n",
       "      <td>2016-01-01 01:00:00</td>\n",
       "      <td>68</td>\n",
       "      <td>77</td>\n",
       "      <td>Operator1</td>\n",
       "      <td>1180</td>\n",
       "      <td>1</td>\n",
       "      <td>1</td>\n",
       "      <td>1915</td>\n",
       "      <td>1194</td>\n",
       "      <td>637</td>\n",
       "      <td>...</td>\n",
       "      <td>723</td>\n",
       "      <td>1446</td>\n",
       "      <td>719</td>\n",
       "      <td>748</td>\n",
       "      <td>91</td>\n",
       "      <td>No</td>\n",
       "      <td>1</td>\n",
       "      <td>1</td>\n",
       "      <td>1</td>\n",
       "      <td>5</td>\n",
       "    </tr>\n",
       "    <tr>\n",
       "      <th>2</th>\n",
       "      <td>2016-01-01 02:00:00</td>\n",
       "      <td>64</td>\n",
       "      <td>76</td>\n",
       "      <td>Operator1</td>\n",
       "      <td>1406</td>\n",
       "      <td>1</td>\n",
       "      <td>1</td>\n",
       "      <td>511</td>\n",
       "      <td>1577</td>\n",
       "      <td>1121</td>\n",
       "      <td>...</td>\n",
       "      <td>1123</td>\n",
       "      <td>717</td>\n",
       "      <td>1518</td>\n",
       "      <td>1689</td>\n",
       "      <td>92</td>\n",
       "      <td>No</td>\n",
       "      <td>1</td>\n",
       "      <td>1</td>\n",
       "      <td>2</td>\n",
       "      <td>5</td>\n",
       "    </tr>\n",
       "    <tr>\n",
       "      <th>3</th>\n",
       "      <td>2016-01-01 03:00:00</td>\n",
       "      <td>63</td>\n",
       "      <td>80</td>\n",
       "      <td>Operator1</td>\n",
       "      <td>550</td>\n",
       "      <td>1</td>\n",
       "      <td>1</td>\n",
       "      <td>1754</td>\n",
       "      <td>1834</td>\n",
       "      <td>1413</td>\n",
       "      <td>...</td>\n",
       "      <td>1434</td>\n",
       "      <td>502</td>\n",
       "      <td>1336</td>\n",
       "      <td>711</td>\n",
       "      <td>93</td>\n",
       "      <td>No</td>\n",
       "      <td>1</td>\n",
       "      <td>1</td>\n",
       "      <td>3</td>\n",
       "      <td>5</td>\n",
       "    </tr>\n",
       "    <tr>\n",
       "      <th>4</th>\n",
       "      <td>2016-01-01 04:00:00</td>\n",
       "      <td>65</td>\n",
       "      <td>81</td>\n",
       "      <td>Operator1</td>\n",
       "      <td>1928</td>\n",
       "      <td>1</td>\n",
       "      <td>2</td>\n",
       "      <td>1326</td>\n",
       "      <td>1082</td>\n",
       "      <td>233</td>\n",
       "      <td>...</td>\n",
       "      <td>1819</td>\n",
       "      <td>1616</td>\n",
       "      <td>1507</td>\n",
       "      <td>507</td>\n",
       "      <td>94</td>\n",
       "      <td>No</td>\n",
       "      <td>1</td>\n",
       "      <td>1</td>\n",
       "      <td>4</td>\n",
       "      <td>5</td>\n",
       "    </tr>\n",
       "  </tbody>\n",
       "</table>\n",
       "<p>5 rows × 25 columns</p>\n",
       "</div>"
      ],
      "text/plain": [
       "                 Date  Temperature  Humidity   Operator  Measure1  Measure2  \\\n",
       "0 2016-01-01 00:00:00           67        82  Operator1       291         1   \n",
       "1 2016-01-01 01:00:00           68        77  Operator1      1180         1   \n",
       "2 2016-01-01 02:00:00           64        76  Operator1      1406         1   \n",
       "3 2016-01-01 03:00:00           63        80  Operator1       550         1   \n",
       "4 2016-01-01 04:00:00           65        81  Operator1      1928         1   \n",
       "\n",
       "   Measure3  Measure4  Measure5  Measure6  ...  Measure12  Measure13  \\\n",
       "0         1      1041       846       334  ...        968       1185   \n",
       "1         1      1915      1194       637  ...        723       1446   \n",
       "2         1       511      1577      1121  ...       1123        717   \n",
       "3         1      1754      1834      1413  ...       1434        502   \n",
       "4         2      1326      1082       233  ...       1819       1616   \n",
       "\n",
       "   Measure14  Measure15  Hours Since Previous Failure  Failure  month  date  \\\n",
       "0       1355       1842                            90       No      1     1   \n",
       "1        719        748                            91       No      1     1   \n",
       "2       1518       1689                            92       No      1     1   \n",
       "3       1336        711                            93       No      1     1   \n",
       "4       1507        507                            94       No      1     1   \n",
       "\n",
       "   hour  dayOfWeek  \n",
       "0     0          5  \n",
       "1     1          5  \n",
       "2     2          5  \n",
       "3     3          5  \n",
       "4     4          5  \n",
       "\n",
       "[5 rows x 25 columns]"
      ]
     },
     "execution_count": 30,
     "metadata": {},
     "output_type": "execute_result"
    }
   ],
   "source": [
    "dayOfWeekDict = {\n",
    "    'Sunday' : 0,\n",
    "    'Monday' : 1,\n",
    "    'Tuesday' : 2,\n",
    "    'Wednesday' : 3,\n",
    "    'Thursday' : 4,\n",
    "    'Friday' : 5,\n",
    "    'Saturday' : 6    \n",
    "}\n",
    "mf['dayOfWeek'] = mf['dayOfWeek'].map(dayOfWeekDict)\n",
    "mf.head()"
   ]
  },
  {
   "cell_type": "code",
   "execution_count": 31,
   "metadata": {},
   "outputs": [],
   "source": [
    "mf.drop(columns=['Date'], inplace=True)"
   ]
  },
  {
   "cell_type": "code",
   "execution_count": 32,
   "metadata": {},
   "outputs": [
    {
     "data": {
      "text/html": [
       "<div>\n",
       "<style scoped>\n",
       "    .dataframe tbody tr th:only-of-type {\n",
       "        vertical-align: middle;\n",
       "    }\n",
       "\n",
       "    .dataframe tbody tr th {\n",
       "        vertical-align: top;\n",
       "    }\n",
       "\n",
       "    .dataframe thead th {\n",
       "        text-align: right;\n",
       "    }\n",
       "</style>\n",
       "<table border=\"1\" class=\"dataframe\">\n",
       "  <thead>\n",
       "    <tr style=\"text-align: right;\">\n",
       "      <th></th>\n",
       "      <th>Temperature</th>\n",
       "      <th>Humidity</th>\n",
       "      <th>Operator</th>\n",
       "      <th>Measure1</th>\n",
       "      <th>Measure2</th>\n",
       "      <th>Measure3</th>\n",
       "      <th>Measure4</th>\n",
       "      <th>Measure5</th>\n",
       "      <th>Measure6</th>\n",
       "      <th>Measure7</th>\n",
       "      <th>...</th>\n",
       "      <th>Measure12</th>\n",
       "      <th>Measure13</th>\n",
       "      <th>Measure14</th>\n",
       "      <th>Measure15</th>\n",
       "      <th>Hours Since Previous Failure</th>\n",
       "      <th>Failure</th>\n",
       "      <th>month</th>\n",
       "      <th>date</th>\n",
       "      <th>hour</th>\n",
       "      <th>dayOfWeek</th>\n",
       "    </tr>\n",
       "  </thead>\n",
       "  <tbody>\n",
       "    <tr>\n",
       "      <th>0</th>\n",
       "      <td>67</td>\n",
       "      <td>82</td>\n",
       "      <td>Operator1</td>\n",
       "      <td>291</td>\n",
       "      <td>1</td>\n",
       "      <td>1</td>\n",
       "      <td>1041</td>\n",
       "      <td>846</td>\n",
       "      <td>334</td>\n",
       "      <td>706</td>\n",
       "      <td>...</td>\n",
       "      <td>968</td>\n",
       "      <td>1185</td>\n",
       "      <td>1355</td>\n",
       "      <td>1842</td>\n",
       "      <td>90</td>\n",
       "      <td>No</td>\n",
       "      <td>1</td>\n",
       "      <td>1</td>\n",
       "      <td>0</td>\n",
       "      <td>5</td>\n",
       "    </tr>\n",
       "    <tr>\n",
       "      <th>1</th>\n",
       "      <td>68</td>\n",
       "      <td>77</td>\n",
       "      <td>Operator1</td>\n",
       "      <td>1180</td>\n",
       "      <td>1</td>\n",
       "      <td>1</td>\n",
       "      <td>1915</td>\n",
       "      <td>1194</td>\n",
       "      <td>637</td>\n",
       "      <td>1093</td>\n",
       "      <td>...</td>\n",
       "      <td>723</td>\n",
       "      <td>1446</td>\n",
       "      <td>719</td>\n",
       "      <td>748</td>\n",
       "      <td>91</td>\n",
       "      <td>No</td>\n",
       "      <td>1</td>\n",
       "      <td>1</td>\n",
       "      <td>1</td>\n",
       "      <td>5</td>\n",
       "    </tr>\n",
       "    <tr>\n",
       "      <th>2</th>\n",
       "      <td>64</td>\n",
       "      <td>76</td>\n",
       "      <td>Operator1</td>\n",
       "      <td>1406</td>\n",
       "      <td>1</td>\n",
       "      <td>1</td>\n",
       "      <td>511</td>\n",
       "      <td>1577</td>\n",
       "      <td>1121</td>\n",
       "      <td>1948</td>\n",
       "      <td>...</td>\n",
       "      <td>1123</td>\n",
       "      <td>717</td>\n",
       "      <td>1518</td>\n",
       "      <td>1689</td>\n",
       "      <td>92</td>\n",
       "      <td>No</td>\n",
       "      <td>1</td>\n",
       "      <td>1</td>\n",
       "      <td>2</td>\n",
       "      <td>5</td>\n",
       "    </tr>\n",
       "    <tr>\n",
       "      <th>3</th>\n",
       "      <td>63</td>\n",
       "      <td>80</td>\n",
       "      <td>Operator1</td>\n",
       "      <td>550</td>\n",
       "      <td>1</td>\n",
       "      <td>1</td>\n",
       "      <td>1754</td>\n",
       "      <td>1834</td>\n",
       "      <td>1413</td>\n",
       "      <td>1151</td>\n",
       "      <td>...</td>\n",
       "      <td>1434</td>\n",
       "      <td>502</td>\n",
       "      <td>1336</td>\n",
       "      <td>711</td>\n",
       "      <td>93</td>\n",
       "      <td>No</td>\n",
       "      <td>1</td>\n",
       "      <td>1</td>\n",
       "      <td>3</td>\n",
       "      <td>5</td>\n",
       "    </tr>\n",
       "    <tr>\n",
       "      <th>4</th>\n",
       "      <td>65</td>\n",
       "      <td>81</td>\n",
       "      <td>Operator1</td>\n",
       "      <td>1928</td>\n",
       "      <td>1</td>\n",
       "      <td>2</td>\n",
       "      <td>1326</td>\n",
       "      <td>1082</td>\n",
       "      <td>233</td>\n",
       "      <td>1441</td>\n",
       "      <td>...</td>\n",
       "      <td>1819</td>\n",
       "      <td>1616</td>\n",
       "      <td>1507</td>\n",
       "      <td>507</td>\n",
       "      <td>94</td>\n",
       "      <td>No</td>\n",
       "      <td>1</td>\n",
       "      <td>1</td>\n",
       "      <td>4</td>\n",
       "      <td>5</td>\n",
       "    </tr>\n",
       "  </tbody>\n",
       "</table>\n",
       "<p>5 rows × 24 columns</p>\n",
       "</div>"
      ],
      "text/plain": [
       "   Temperature  Humidity   Operator  Measure1  Measure2  Measure3  Measure4  \\\n",
       "0           67        82  Operator1       291         1         1      1041   \n",
       "1           68        77  Operator1      1180         1         1      1915   \n",
       "2           64        76  Operator1      1406         1         1       511   \n",
       "3           63        80  Operator1       550         1         1      1754   \n",
       "4           65        81  Operator1      1928         1         2      1326   \n",
       "\n",
       "   Measure5  Measure6  Measure7  ...  Measure12  Measure13  Measure14  \\\n",
       "0       846       334       706  ...        968       1185       1355   \n",
       "1      1194       637      1093  ...        723       1446        719   \n",
       "2      1577      1121      1948  ...       1123        717       1518   \n",
       "3      1834      1413      1151  ...       1434        502       1336   \n",
       "4      1082       233      1441  ...       1819       1616       1507   \n",
       "\n",
       "   Measure15  Hours Since Previous Failure  Failure  month  date  hour  \\\n",
       "0       1842                            90       No      1     1     0   \n",
       "1        748                            91       No      1     1     1   \n",
       "2       1689                            92       No      1     1     2   \n",
       "3        711                            93       No      1     1     3   \n",
       "4        507                            94       No      1     1     4   \n",
       "\n",
       "  dayOfWeek  \n",
       "0         5  \n",
       "1         5  \n",
       "2         5  \n",
       "3         5  \n",
       "4         5  \n",
       "\n",
       "[5 rows x 24 columns]"
      ]
     },
     "execution_count": 32,
     "metadata": {},
     "output_type": "execute_result"
    }
   ],
   "source": [
    "mf.head()"
   ]
  },
  {
   "cell_type": "code",
   "execution_count": 33,
   "metadata": {},
   "outputs": [],
   "source": [
    "numeric_columns = ['Temperature', 'Humidity', 'Measure1', 'Measure2', 'Measure3', 'Measure4', 'Measure5', 'Measure6', 'Measure7', 'Measure8', 'Measure9', 'Measure10', 'Measure11', 'Measure12', 'Measure13', 'Measure14', 'Measure15', 'Hours Since Previous Failure']\n",
    "categorical_columns = ['Operator', 'Failure', 'month', 'date', 'hour', 'dayOfWeek']"
   ]
  },
  {
   "cell_type": "code",
   "execution_count": 34,
   "metadata": {},
   "outputs": [
    {
     "data": {
      "text/html": [
       "<div>\n",
       "<style scoped>\n",
       "    .dataframe tbody tr th:only-of-type {\n",
       "        vertical-align: middle;\n",
       "    }\n",
       "\n",
       "    .dataframe tbody tr th {\n",
       "        vertical-align: top;\n",
       "    }\n",
       "\n",
       "    .dataframe thead th {\n",
       "        text-align: right;\n",
       "    }\n",
       "</style>\n",
       "<table border=\"1\" class=\"dataframe\">\n",
       "  <thead>\n",
       "    <tr style=\"text-align: right;\">\n",
       "      <th></th>\n",
       "      <th>Temperature</th>\n",
       "      <th>Humidity</th>\n",
       "      <th>Operator</th>\n",
       "      <th>Measure1</th>\n",
       "      <th>Measure2</th>\n",
       "      <th>Measure3</th>\n",
       "      <th>Measure4</th>\n",
       "      <th>Measure5</th>\n",
       "      <th>Measure6</th>\n",
       "      <th>Measure7</th>\n",
       "      <th>...</th>\n",
       "      <th>Measure12</th>\n",
       "      <th>Measure13</th>\n",
       "      <th>Measure14</th>\n",
       "      <th>Measure15</th>\n",
       "      <th>Hours Since Previous Failure</th>\n",
       "      <th>Failure</th>\n",
       "      <th>month</th>\n",
       "      <th>date</th>\n",
       "      <th>hour</th>\n",
       "      <th>dayOfWeek</th>\n",
       "    </tr>\n",
       "  </thead>\n",
       "  <tbody>\n",
       "    <tr>\n",
       "      <th>0</th>\n",
       "      <td>67</td>\n",
       "      <td>82</td>\n",
       "      <td>Operator1</td>\n",
       "      <td>291</td>\n",
       "      <td>1</td>\n",
       "      <td>1</td>\n",
       "      <td>1041</td>\n",
       "      <td>846</td>\n",
       "      <td>334</td>\n",
       "      <td>706</td>\n",
       "      <td>...</td>\n",
       "      <td>968</td>\n",
       "      <td>1185</td>\n",
       "      <td>1355</td>\n",
       "      <td>1842</td>\n",
       "      <td>90</td>\n",
       "      <td>0</td>\n",
       "      <td>1</td>\n",
       "      <td>1</td>\n",
       "      <td>0</td>\n",
       "      <td>5</td>\n",
       "    </tr>\n",
       "    <tr>\n",
       "      <th>1</th>\n",
       "      <td>68</td>\n",
       "      <td>77</td>\n",
       "      <td>Operator1</td>\n",
       "      <td>1180</td>\n",
       "      <td>1</td>\n",
       "      <td>1</td>\n",
       "      <td>1915</td>\n",
       "      <td>1194</td>\n",
       "      <td>637</td>\n",
       "      <td>1093</td>\n",
       "      <td>...</td>\n",
       "      <td>723</td>\n",
       "      <td>1446</td>\n",
       "      <td>719</td>\n",
       "      <td>748</td>\n",
       "      <td>91</td>\n",
       "      <td>0</td>\n",
       "      <td>1</td>\n",
       "      <td>1</td>\n",
       "      <td>1</td>\n",
       "      <td>5</td>\n",
       "    </tr>\n",
       "    <tr>\n",
       "      <th>2</th>\n",
       "      <td>64</td>\n",
       "      <td>76</td>\n",
       "      <td>Operator1</td>\n",
       "      <td>1406</td>\n",
       "      <td>1</td>\n",
       "      <td>1</td>\n",
       "      <td>511</td>\n",
       "      <td>1577</td>\n",
       "      <td>1121</td>\n",
       "      <td>1948</td>\n",
       "      <td>...</td>\n",
       "      <td>1123</td>\n",
       "      <td>717</td>\n",
       "      <td>1518</td>\n",
       "      <td>1689</td>\n",
       "      <td>92</td>\n",
       "      <td>0</td>\n",
       "      <td>1</td>\n",
       "      <td>1</td>\n",
       "      <td>2</td>\n",
       "      <td>5</td>\n",
       "    </tr>\n",
       "    <tr>\n",
       "      <th>3</th>\n",
       "      <td>63</td>\n",
       "      <td>80</td>\n",
       "      <td>Operator1</td>\n",
       "      <td>550</td>\n",
       "      <td>1</td>\n",
       "      <td>1</td>\n",
       "      <td>1754</td>\n",
       "      <td>1834</td>\n",
       "      <td>1413</td>\n",
       "      <td>1151</td>\n",
       "      <td>...</td>\n",
       "      <td>1434</td>\n",
       "      <td>502</td>\n",
       "      <td>1336</td>\n",
       "      <td>711</td>\n",
       "      <td>93</td>\n",
       "      <td>0</td>\n",
       "      <td>1</td>\n",
       "      <td>1</td>\n",
       "      <td>3</td>\n",
       "      <td>5</td>\n",
       "    </tr>\n",
       "    <tr>\n",
       "      <th>4</th>\n",
       "      <td>65</td>\n",
       "      <td>81</td>\n",
       "      <td>Operator1</td>\n",
       "      <td>1928</td>\n",
       "      <td>1</td>\n",
       "      <td>2</td>\n",
       "      <td>1326</td>\n",
       "      <td>1082</td>\n",
       "      <td>233</td>\n",
       "      <td>1441</td>\n",
       "      <td>...</td>\n",
       "      <td>1819</td>\n",
       "      <td>1616</td>\n",
       "      <td>1507</td>\n",
       "      <td>507</td>\n",
       "      <td>94</td>\n",
       "      <td>0</td>\n",
       "      <td>1</td>\n",
       "      <td>1</td>\n",
       "      <td>4</td>\n",
       "      <td>5</td>\n",
       "    </tr>\n",
       "  </tbody>\n",
       "</table>\n",
       "<p>5 rows × 24 columns</p>\n",
       "</div>"
      ],
      "text/plain": [
       "   Temperature  Humidity   Operator  Measure1  Measure2  Measure3  Measure4  \\\n",
       "0           67        82  Operator1       291         1         1      1041   \n",
       "1           68        77  Operator1      1180         1         1      1915   \n",
       "2           64        76  Operator1      1406         1         1       511   \n",
       "3           63        80  Operator1       550         1         1      1754   \n",
       "4           65        81  Operator1      1928         1         2      1326   \n",
       "\n",
       "   Measure5  Measure6  Measure7  ...  Measure12  Measure13  Measure14  \\\n",
       "0       846       334       706  ...        968       1185       1355   \n",
       "1      1194       637      1093  ...        723       1446        719   \n",
       "2      1577      1121      1948  ...       1123        717       1518   \n",
       "3      1834      1413      1151  ...       1434        502       1336   \n",
       "4      1082       233      1441  ...       1819       1616       1507   \n",
       "\n",
       "   Measure15  Hours Since Previous Failure  Failure  month  date  hour  \\\n",
       "0       1842                            90        0      1     1     0   \n",
       "1        748                            91        0      1     1     1   \n",
       "2       1689                            92        0      1     1     2   \n",
       "3        711                            93        0      1     1     3   \n",
       "4        507                            94        0      1     1     4   \n",
       "\n",
       "   dayOfWeek  \n",
       "0          5  \n",
       "1          5  \n",
       "2          5  \n",
       "3          5  \n",
       "4          5  \n",
       "\n",
       "[5 rows x 24 columns]"
      ]
     },
     "execution_count": 34,
     "metadata": {},
     "output_type": "execute_result"
    }
   ],
   "source": [
    "failureDict = {\n",
    "    'No' : 0,\n",
    "    'Yes' : 1,\n",
    "    }\n",
    "mf['Failure'] = mf['Failure'].map(failureDict)\n",
    "mf.head()"
   ]
  },
  {
   "cell_type": "code",
   "execution_count": 35,
   "metadata": {},
   "outputs": [
    {
     "data": {
      "text/html": [
       "<div>\n",
       "<style scoped>\n",
       "    .dataframe tbody tr th:only-of-type {\n",
       "        vertical-align: middle;\n",
       "    }\n",
       "\n",
       "    .dataframe tbody tr th {\n",
       "        vertical-align: top;\n",
       "    }\n",
       "\n",
       "    .dataframe thead th {\n",
       "        text-align: right;\n",
       "    }\n",
       "</style>\n",
       "<table border=\"1\" class=\"dataframe\">\n",
       "  <thead>\n",
       "    <tr style=\"text-align: right;\">\n",
       "      <th></th>\n",
       "      <th>Temperature</th>\n",
       "      <th>Humidity</th>\n",
       "      <th>Operator</th>\n",
       "      <th>Measure1</th>\n",
       "      <th>Measure2</th>\n",
       "      <th>Measure3</th>\n",
       "      <th>Measure4</th>\n",
       "      <th>Measure5</th>\n",
       "      <th>Measure6</th>\n",
       "      <th>Measure7</th>\n",
       "      <th>...</th>\n",
       "      <th>Measure12</th>\n",
       "      <th>Measure13</th>\n",
       "      <th>Measure14</th>\n",
       "      <th>Measure15</th>\n",
       "      <th>Hours Since Previous Failure</th>\n",
       "      <th>Failure</th>\n",
       "      <th>month</th>\n",
       "      <th>date</th>\n",
       "      <th>hour</th>\n",
       "      <th>dayOfWeek</th>\n",
       "    </tr>\n",
       "  </thead>\n",
       "  <tbody>\n",
       "    <tr>\n",
       "      <th>0</th>\n",
       "      <td>67</td>\n",
       "      <td>82</td>\n",
       "      <td>1</td>\n",
       "      <td>291</td>\n",
       "      <td>1</td>\n",
       "      <td>1</td>\n",
       "      <td>1041</td>\n",
       "      <td>846</td>\n",
       "      <td>334</td>\n",
       "      <td>706</td>\n",
       "      <td>...</td>\n",
       "      <td>968</td>\n",
       "      <td>1185</td>\n",
       "      <td>1355</td>\n",
       "      <td>1842</td>\n",
       "      <td>90</td>\n",
       "      <td>0</td>\n",
       "      <td>1</td>\n",
       "      <td>1</td>\n",
       "      <td>0</td>\n",
       "      <td>5</td>\n",
       "    </tr>\n",
       "    <tr>\n",
       "      <th>1</th>\n",
       "      <td>68</td>\n",
       "      <td>77</td>\n",
       "      <td>1</td>\n",
       "      <td>1180</td>\n",
       "      <td>1</td>\n",
       "      <td>1</td>\n",
       "      <td>1915</td>\n",
       "      <td>1194</td>\n",
       "      <td>637</td>\n",
       "      <td>1093</td>\n",
       "      <td>...</td>\n",
       "      <td>723</td>\n",
       "      <td>1446</td>\n",
       "      <td>719</td>\n",
       "      <td>748</td>\n",
       "      <td>91</td>\n",
       "      <td>0</td>\n",
       "      <td>1</td>\n",
       "      <td>1</td>\n",
       "      <td>1</td>\n",
       "      <td>5</td>\n",
       "    </tr>\n",
       "    <tr>\n",
       "      <th>2</th>\n",
       "      <td>64</td>\n",
       "      <td>76</td>\n",
       "      <td>1</td>\n",
       "      <td>1406</td>\n",
       "      <td>1</td>\n",
       "      <td>1</td>\n",
       "      <td>511</td>\n",
       "      <td>1577</td>\n",
       "      <td>1121</td>\n",
       "      <td>1948</td>\n",
       "      <td>...</td>\n",
       "      <td>1123</td>\n",
       "      <td>717</td>\n",
       "      <td>1518</td>\n",
       "      <td>1689</td>\n",
       "      <td>92</td>\n",
       "      <td>0</td>\n",
       "      <td>1</td>\n",
       "      <td>1</td>\n",
       "      <td>2</td>\n",
       "      <td>5</td>\n",
       "    </tr>\n",
       "    <tr>\n",
       "      <th>3</th>\n",
       "      <td>63</td>\n",
       "      <td>80</td>\n",
       "      <td>1</td>\n",
       "      <td>550</td>\n",
       "      <td>1</td>\n",
       "      <td>1</td>\n",
       "      <td>1754</td>\n",
       "      <td>1834</td>\n",
       "      <td>1413</td>\n",
       "      <td>1151</td>\n",
       "      <td>...</td>\n",
       "      <td>1434</td>\n",
       "      <td>502</td>\n",
       "      <td>1336</td>\n",
       "      <td>711</td>\n",
       "      <td>93</td>\n",
       "      <td>0</td>\n",
       "      <td>1</td>\n",
       "      <td>1</td>\n",
       "      <td>3</td>\n",
       "      <td>5</td>\n",
       "    </tr>\n",
       "    <tr>\n",
       "      <th>4</th>\n",
       "      <td>65</td>\n",
       "      <td>81</td>\n",
       "      <td>1</td>\n",
       "      <td>1928</td>\n",
       "      <td>1</td>\n",
       "      <td>2</td>\n",
       "      <td>1326</td>\n",
       "      <td>1082</td>\n",
       "      <td>233</td>\n",
       "      <td>1441</td>\n",
       "      <td>...</td>\n",
       "      <td>1819</td>\n",
       "      <td>1616</td>\n",
       "      <td>1507</td>\n",
       "      <td>507</td>\n",
       "      <td>94</td>\n",
       "      <td>0</td>\n",
       "      <td>1</td>\n",
       "      <td>1</td>\n",
       "      <td>4</td>\n",
       "      <td>5</td>\n",
       "    </tr>\n",
       "  </tbody>\n",
       "</table>\n",
       "<p>5 rows × 24 columns</p>\n",
       "</div>"
      ],
      "text/plain": [
       "   Temperature  Humidity  Operator  Measure1  Measure2  Measure3  Measure4  \\\n",
       "0           67        82         1       291         1         1      1041   \n",
       "1           68        77         1      1180         1         1      1915   \n",
       "2           64        76         1      1406         1         1       511   \n",
       "3           63        80         1       550         1         1      1754   \n",
       "4           65        81         1      1928         1         2      1326   \n",
       "\n",
       "   Measure5  Measure6  Measure7  ...  Measure12  Measure13  Measure14  \\\n",
       "0       846       334       706  ...        968       1185       1355   \n",
       "1      1194       637      1093  ...        723       1446        719   \n",
       "2      1577      1121      1948  ...       1123        717       1518   \n",
       "3      1834      1413      1151  ...       1434        502       1336   \n",
       "4      1082       233      1441  ...       1819       1616       1507   \n",
       "\n",
       "   Measure15  Hours Since Previous Failure  Failure  month  date  hour  \\\n",
       "0       1842                            90        0      1     1     0   \n",
       "1        748                            91        0      1     1     1   \n",
       "2       1689                            92        0      1     1     2   \n",
       "3        711                            93        0      1     1     3   \n",
       "4        507                            94        0      1     1     4   \n",
       "\n",
       "   dayOfWeek  \n",
       "0          5  \n",
       "1          5  \n",
       "2          5  \n",
       "3          5  \n",
       "4          5  \n",
       "\n",
       "[5 rows x 24 columns]"
      ]
     },
     "execution_count": 35,
     "metadata": {},
     "output_type": "execute_result"
    }
   ],
   "source": [
    "opDict = {\n",
    "    'Operator1' : 1,\n",
    "    'Operator2' : 2,\n",
    "    'Operator3' : 3,\n",
    "    'Operator4' : 4,\n",
    "    'Operator5' : 5,\n",
    "    'Operator6' : 6,\n",
    "    'Operator7' : 7,\n",
    "    'Operator8' : 8,\n",
    "    }\n",
    "mf['Operator'] = mf['Operator'].map(opDict)\n",
    "mf.head()"
   ]
  },
  {
   "cell_type": "code",
   "execution_count": 36,
   "metadata": {},
   "outputs": [
    {
     "data": {
      "text/plain": [
       "<matplotlib.axes._subplots.AxesSubplot at 0x1e5147a6860>"
      ]
     },
     "execution_count": 36,
     "metadata": {},
     "output_type": "execute_result"
    },
    {
     "data": {
      "image/png": "[encoded data removed]",
      "text/plain": [
       "<Figure size 720x360 with 1 Axes>"
      ]
     },
     "metadata": {
      "needs_background": "light"
     },
     "output_type": "display_data"
    }
   ],
   "source": [
    "sns.countplot(x='Operator', hue='Failure', data=mf)"
   ]
  },
  {
   "cell_type": "code",
   "execution_count": 37,
   "metadata": {},
   "outputs": [
    {
     "data": {
      "text/plain": [
       "<matplotlib.axes._subplots.AxesSubplot at 0x1e5153993c8>"
      ]
     },
     "execution_count": 37,
     "metadata": {},
     "output_type": "execute_result"
    },
    {
     "data": {
      "image/png": "[encoded data removed]",
      "text/plain": [
       "<Figure size 720x360 with 1 Axes>"
      ]
     },
     "metadata": {
      "needs_background": "light"
     },
     "output_type": "display_data"
    }
   ],
   "source": [
    "sns.countplot(x='month', hue='Failure', data=mf)"
   ]
  },
  {
   "cell_type": "code",
   "execution_count": 38,
   "metadata": {},
   "outputs": [
    {
     "data": {
      "text/plain": [
       "<matplotlib.axes._subplots.AxesSubplot at 0x1e515441240>"
      ]
     },
     "execution_count": 38,
     "metadata": {},
     "output_type": "execute_result"
    },
    {
     "data": {
      "image/png": "[encoded data removed]",
      "text/plain": [
       "<Figure size 720x360 with 1 Axes>"
      ]
     },
     "metadata": {
      "needs_background": "light"
     },
     "output_type": "display_data"
    }
   ],
   "source": [
    "sns.countplot(x='date', hue='Failure', data=mf)"
   ]
  },
  {
   "cell_type": "code",
   "execution_count": 39,
   "metadata": {},
   "outputs": [
    {
     "data": {
      "text/plain": [
       "<matplotlib.axes._subplots.AxesSubplot at 0x1e5155944a8>"
      ]
     },
     "execution_count": 39,
     "metadata": {},
     "output_type": "execute_result"
    },
    {
     "data": {
      "image/png": "[encoded data removed]",
      "text/plain": [
       "<Figure size 720x360 with 1 Axes>"
      ]
     },
     "metadata": {
      "needs_background": "light"
     },
     "output_type": "display_data"
    }
   ],
   "source": [
    "sns.countplot(x='hour', hue='Failure', data=mf)"
   ]
  },
  {
   "cell_type": "code",
   "execution_count": 40,
   "metadata": {},
   "outputs": [
    {
     "data": {
      "text/plain": [
       "<matplotlib.axes._subplots.AxesSubplot at 0x1e515661128>"
      ]
     },
     "execution_count": 40,
     "metadata": {},
     "output_type": "execute_result"
    },
    {
     "data": {
      "image/png": "[encoded data removed]",
      "text/plain": [
       "<Figure size 720x360 with 1 Axes>"
      ]
     },
     "metadata": {
      "needs_background": "light"
     },
     "output_type": "display_data"
    }
   ],
   "source": [
    "sns.countplot(x='dayOfWeek', hue='Failure', data=mf)"
   ]
  },
  {
   "cell_type": "code",
   "execution_count": 41,
   "metadata": {},
   "outputs": [
    {
     "data": {
      "text/plain": [
       "<matplotlib.axes._subplots.AxesSubplot at 0x1e515786dd8>"
      ]
     },
     "execution_count": 41,
     "metadata": {},
     "output_type": "execute_result"
    },
    {
     "data": {
      "image/png": "[encoded data removed]",
      "text/plain": [
       "<Figure size 720x360 with 2 Axes>"
      ]
     },
     "metadata": {
      "needs_background": "light"
     },
     "output_type": "display_data"
    }
   ],
   "source": [
    "corr = mf[numeric_columns].corr()\n",
    "#fig, ax = plt.subplots(figsize=(15,15))\n",
    "#sns.heatmap(corr, annot=True, ax = ax)\n",
    "sns.heatmap(corr, annot=True)"
   ]
  },
  {
   "cell_type": "code",
   "execution_count": 42,
   "metadata": {},
   "outputs": [
    {
     "data": {
      "text/html": [
       "<div>\n",
       "<style scoped>\n",
       "    .dataframe tbody tr th:only-of-type {\n",
       "        vertical-align: middle;\n",
       "    }\n",
       "\n",
       "    .dataframe tbody tr th {\n",
       "        vertical-align: top;\n",
       "    }\n",
       "\n",
       "    .dataframe thead th {\n",
       "        text-align: right;\n",
       "    }\n",
       "</style>\n",
       "<table border=\"1\" class=\"dataframe\">\n",
       "  <thead>\n",
       "    <tr style=\"text-align: right;\">\n",
       "      <th></th>\n",
       "      <th>Temperature</th>\n",
       "      <th>Humidity</th>\n",
       "      <th>Operator</th>\n",
       "      <th>Measure1</th>\n",
       "      <th>Measure2</th>\n",
       "      <th>Measure3</th>\n",
       "      <th>Measure4</th>\n",
       "      <th>Measure5</th>\n",
       "      <th>Measure6</th>\n",
       "      <th>Measure7</th>\n",
       "      <th>...</th>\n",
       "      <th>Measure12</th>\n",
       "      <th>Measure13</th>\n",
       "      <th>Measure14</th>\n",
       "      <th>Measure15</th>\n",
       "      <th>Hours Since Previous Failure</th>\n",
       "      <th>Failure</th>\n",
       "      <th>month</th>\n",
       "      <th>date</th>\n",
       "      <th>hour</th>\n",
       "      <th>dayOfWeek</th>\n",
       "    </tr>\n",
       "  </thead>\n",
       "  <tbody>\n",
       "    <tr>\n",
       "      <th>0</th>\n",
       "      <td>67</td>\n",
       "      <td>82</td>\n",
       "      <td>1</td>\n",
       "      <td>291</td>\n",
       "      <td>1</td>\n",
       "      <td>1</td>\n",
       "      <td>1041</td>\n",
       "      <td>846</td>\n",
       "      <td>334</td>\n",
       "      <td>706</td>\n",
       "      <td>...</td>\n",
       "      <td>968</td>\n",
       "      <td>1185</td>\n",
       "      <td>1355</td>\n",
       "      <td>1842</td>\n",
       "      <td>90</td>\n",
       "      <td>0</td>\n",
       "      <td>1</td>\n",
       "      <td>1</td>\n",
       "      <td>0</td>\n",
       "      <td>5</td>\n",
       "    </tr>\n",
       "    <tr>\n",
       "      <th>1</th>\n",
       "      <td>68</td>\n",
       "      <td>77</td>\n",
       "      <td>1</td>\n",
       "      <td>1180</td>\n",
       "      <td>1</td>\n",
       "      <td>1</td>\n",
       "      <td>1915</td>\n",
       "      <td>1194</td>\n",
       "      <td>637</td>\n",
       "      <td>1093</td>\n",
       "      <td>...</td>\n",
       "      <td>723</td>\n",
       "      <td>1446</td>\n",
       "      <td>719</td>\n",
       "      <td>748</td>\n",
       "      <td>91</td>\n",
       "      <td>0</td>\n",
       "      <td>1</td>\n",
       "      <td>1</td>\n",
       "      <td>1</td>\n",
       "      <td>5</td>\n",
       "    </tr>\n",
       "    <tr>\n",
       "      <th>2</th>\n",
       "      <td>64</td>\n",
       "      <td>76</td>\n",
       "      <td>1</td>\n",
       "      <td>1406</td>\n",
       "      <td>1</td>\n",
       "      <td>1</td>\n",
       "      <td>511</td>\n",
       "      <td>1577</td>\n",
       "      <td>1121</td>\n",
       "      <td>1948</td>\n",
       "      <td>...</td>\n",
       "      <td>1123</td>\n",
       "      <td>717</td>\n",
       "      <td>1518</td>\n",
       "      <td>1689</td>\n",
       "      <td>92</td>\n",
       "      <td>0</td>\n",
       "      <td>1</td>\n",
       "      <td>1</td>\n",
       "      <td>2</td>\n",
       "      <td>5</td>\n",
       "    </tr>\n",
       "    <tr>\n",
       "      <th>3</th>\n",
       "      <td>63</td>\n",
       "      <td>80</td>\n",
       "      <td>1</td>\n",
       "      <td>550</td>\n",
       "      <td>1</td>\n",
       "      <td>1</td>\n",
       "      <td>1754</td>\n",
       "      <td>1834</td>\n",
       "      <td>1413</td>\n",
       "      <td>1151</td>\n",
       "      <td>...</td>\n",
       "      <td>1434</td>\n",
       "      <td>502</td>\n",
       "      <td>1336</td>\n",
       "      <td>711</td>\n",
       "      <td>93</td>\n",
       "      <td>0</td>\n",
       "      <td>1</td>\n",
       "      <td>1</td>\n",
       "      <td>3</td>\n",
       "      <td>5</td>\n",
       "    </tr>\n",
       "    <tr>\n",
       "      <th>4</th>\n",
       "      <td>65</td>\n",
       "      <td>81</td>\n",
       "      <td>1</td>\n",
       "      <td>1928</td>\n",
       "      <td>1</td>\n",
       "      <td>2</td>\n",
       "      <td>1326</td>\n",
       "      <td>1082</td>\n",
       "      <td>233</td>\n",
       "      <td>1441</td>\n",
       "      <td>...</td>\n",
       "      <td>1819</td>\n",
       "      <td>1616</td>\n",
       "      <td>1507</td>\n",
       "      <td>507</td>\n",
       "      <td>94</td>\n",
       "      <td>0</td>\n",
       "      <td>1</td>\n",
       "      <td>1</td>\n",
       "      <td>4</td>\n",
       "      <td>5</td>\n",
       "    </tr>\n",
       "  </tbody>\n",
       "</table>\n",
       "<p>5 rows × 24 columns</p>\n",
       "</div>"
      ],
      "text/plain": [
       "   Temperature  Humidity  Operator  Measure1  Measure2  Measure3  Measure4  \\\n",
       "0           67        82         1       291         1         1      1041   \n",
       "1           68        77         1      1180         1         1      1915   \n",
       "2           64        76         1      1406         1         1       511   \n",
       "3           63        80         1       550         1         1      1754   \n",
       "4           65        81         1      1928         1         2      1326   \n",
       "\n",
       "   Measure5  Measure6  Measure7  ...  Measure12  Measure13  Measure14  \\\n",
       "0       846       334       706  ...        968       1185       1355   \n",
       "1      1194       637      1093  ...        723       1446        719   \n",
       "2      1577      1121      1948  ...       1123        717       1518   \n",
       "3      1834      1413      1151  ...       1434        502       1336   \n",
       "4      1082       233      1441  ...       1819       1616       1507   \n",
       "\n",
       "   Measure15  Hours Since Previous Failure  Failure  month  date  hour  \\\n",
       "0       1842                            90        0      1     1     0   \n",
       "1        748                            91        0      1     1     1   \n",
       "2       1689                            92        0      1     1     2   \n",
       "3        711                            93        0      1     1     3   \n",
       "4        507                            94        0      1     1     4   \n",
       "\n",
       "   dayOfWeek  \n",
       "0          5  \n",
       "1          5  \n",
       "2          5  \n",
       "3          5  \n",
       "4          5  \n",
       "\n",
       "[5 rows x 24 columns]"
      ]
     },
     "execution_count": 42,
     "metadata": {},
     "output_type": "execute_result"
    }
   ],
   "source": [
    "mf.head()"
   ]
  },
  {
   "cell_type": "code",
   "execution_count": 43,
   "metadata": {},
   "outputs": [
    {
     "data": {
      "text/plain": [
       "<matplotlib.axes._subplots.AxesSubplot at 0x1e515852cc0>"
      ]
     },
     "execution_count": 43,
     "metadata": {},
     "output_type": "execute_result"
    },
    {
     "data": {
      "image/png": "[encoded data removed]",
      "text/plain": [
       "<Figure size 720x360 with 1 Axes>"
      ]
     },
     "metadata": {
      "needs_background": "light"
     },
     "output_type": "display_data"
    }
   ],
   "source": [
    "sns.barplot(x='Failure', y='Temperature', data=mf)"
   ]
  },
  {
   "cell_type": "code",
   "execution_count": 44,
   "metadata": {},
   "outputs": [
    {
     "data": {
      "text/plain": [
       "<matplotlib.axes._subplots.AxesSubplot at 0x1e515cd12e8>"
      ]
     },
     "execution_count": 44,
     "metadata": {},
     "output_type": "execute_result"
    },
    {
     "data": {
      "image/png": "[encoded data removed]",
      "text/plain": [
       "<Figure size 720x360 with 1 Axes>"
      ]
     },
     "metadata": {
      "needs_background": "light"
     },
     "output_type": "display_data"
    }
   ],
   "source": [
    "sns.barplot(x='Failure', y='Humidity', data=mf)"
   ]
  },
  {
   "cell_type": "code",
   "execution_count": 45,
   "metadata": {},
   "outputs": [
    {
     "data": {
      "text/plain": [
       "<matplotlib.axes._subplots.AxesSubplot at 0x1e51574b2e8>"
      ]
     },
     "execution_count": 45,
     "metadata": {},
     "output_type": "execute_result"
    },
    {
     "data": {
      "image/png": "[encoded data removed]",
      "text/plain": [
       "<Figure size 720x360 with 1 Axes>"
      ]
     },
     "metadata": {
      "needs_background": "light"
     },
     "output_type": "display_data"
    }
   ],
   "source": [
    "sns.barplot(x='Failure', y='Measure15', data=mf)"
   ]
  },
  {
   "cell_type": "code",
   "execution_count": 46,
   "metadata": {},
   "outputs": [
    {
     "data": {
      "text/plain": [
       "<matplotlib.axes._subplots.AxesSubplot at 0x1e515ee1710>"
      ]
     },
     "execution_count": 46,
     "metadata": {},
     "output_type": "execute_result"
    },
    {
     "data": {
      "image/png": "[encoded data removed]",
      "text/plain": [
       "<Figure size 720x360 with 1 Axes>"
      ]
     },
     "metadata": {
      "needs_background": "light"
     },
     "output_type": "display_data"
    }
   ],
   "source": [
    "sns.barplot(x='Failure', y='Hours Since Previous Failure', data=mf)"
   ]
  },
  {
   "cell_type": "code",
   "execution_count": 47,
   "metadata": {},
   "outputs": [
    {
     "data": {
      "text/plain": [
       "<seaborn.axisgrid.FacetGrid at 0x1e515ca1390>"
      ]
     },
     "execution_count": 47,
     "metadata": {},
     "output_type": "execute_result"
    },
    {
     "data": {
      "image/png": "[encoded data removed]",
      "text/plain": [
       "<Figure size 360x360 with 1 Axes>"
      ]
     },
     "metadata": {
      "needs_background": "light"
     },
     "output_type": "display_data"
    }
   ],
   "source": [
    "sns.lmplot(x='Failure', y='Temperature', data=mf)"
   ]
  },
  {
   "cell_type": "code",
   "execution_count": 48,
   "metadata": {},
   "outputs": [
    {
     "name": "stdout",
     "output_type": "stream",
     "text": [
      "-2.1619261491795343 0.3171152450774479 -0.015506669019771276 0.004266950594137474 0.0014641303577594919 0.030359980317433612 -0.0008008122165479052 0.014187870902885012 -0.005270572284884046 0.006523284282387669 0.014179269534766805 2.1538234055917943e-05 -0.010045774731083063 -0.010025994004579007 0.02477880839088793 -0.014116323751809939 0.0030907592658610803\n"
     ]
    }
   ],
   "source": [
    "print(mf.Temperature.skew(), mf.Humidity.skew(), mf.Measure1.skew(), mf.Measure2.skew(), mf.Measure3.skew(), mf.Measure4.skew(), mf.Measure5.skew(), mf.Measure6.skew(), mf.Measure7.skew(), mf.Measure8.skew(), mf.Measure9.skew(), mf.Measure10.skew(), mf.Measure11.skew(), mf.Measure12.skew(), mf.Measure13.skew(), mf.Measure14.skew(), mf.Measure15.skew())\n",
    "#['Temperature', 'Humidity', 'Measure1', 'Measure2', 'Measure3', 'Measure4', 'Measure5', 'Measure6', 'Measure7', 'Measure8', 'Measure9', 'Measure10', 'Measure11', 'Measure12', 'Measure13', 'Measure14', 'Measure15', 'Hours Since Previous Failure']"
   ]
  },
  {
   "cell_type": "markdown",
   "metadata": {},
   "source": [
    "<b>Temperature, Humidity and Measure 10 need to be transformed.</b>"
   ]
  },
  {
   "cell_type": "code",
   "execution_count": 49,
   "metadata": {},
   "outputs": [],
   "source": [
    "#sns.pairplot(mf[numeric_columns])"
   ]
  },
  {
   "cell_type": "code",
   "execution_count": 50,
   "metadata": {},
   "outputs": [],
   "source": [
    "#corr"
   ]
  },
  {
   "cell_type": "markdown",
   "metadata": {},
   "source": [
    "<b>*No Numerical columns are correlated*</b>"
   ]
  },
  {
   "cell_type": "code",
   "execution_count": 51,
   "metadata": {},
   "outputs": [
    {
     "data": {
      "text/html": [
       "<div>\n",
       "<style scoped>\n",
       "    .dataframe tbody tr th:only-of-type {\n",
       "        vertical-align: middle;\n",
       "    }\n",
       "\n",
       "    .dataframe tbody tr th {\n",
       "        vertical-align: top;\n",
       "    }\n",
       "\n",
       "    .dataframe thead th {\n",
       "        text-align: right;\n",
       "    }\n",
       "</style>\n",
       "<table border=\"1\" class=\"dataframe\">\n",
       "  <thead>\n",
       "    <tr style=\"text-align: right;\">\n",
       "      <th></th>\n",
       "      <th>Temperature</th>\n",
       "      <th>Humidity</th>\n",
       "      <th>Operator</th>\n",
       "      <th>Measure1</th>\n",
       "      <th>Measure2</th>\n",
       "      <th>Measure3</th>\n",
       "      <th>Measure4</th>\n",
       "      <th>Measure5</th>\n",
       "      <th>Measure6</th>\n",
       "      <th>Measure7</th>\n",
       "      <th>...</th>\n",
       "      <th>Measure12</th>\n",
       "      <th>Measure13</th>\n",
       "      <th>Measure14</th>\n",
       "      <th>Measure15</th>\n",
       "      <th>Hours Since Previous Failure</th>\n",
       "      <th>Failure</th>\n",
       "      <th>month</th>\n",
       "      <th>date</th>\n",
       "      <th>hour</th>\n",
       "      <th>dayOfWeek</th>\n",
       "    </tr>\n",
       "  </thead>\n",
       "  <tbody>\n",
       "    <tr>\n",
       "      <th>0</th>\n",
       "      <td>67</td>\n",
       "      <td>82</td>\n",
       "      <td>1</td>\n",
       "      <td>291</td>\n",
       "      <td>1</td>\n",
       "      <td>1</td>\n",
       "      <td>1041</td>\n",
       "      <td>846</td>\n",
       "      <td>334</td>\n",
       "      <td>706</td>\n",
       "      <td>...</td>\n",
       "      <td>968</td>\n",
       "      <td>1185</td>\n",
       "      <td>1355</td>\n",
       "      <td>1842</td>\n",
       "      <td>90</td>\n",
       "      <td>0</td>\n",
       "      <td>1</td>\n",
       "      <td>1</td>\n",
       "      <td>0</td>\n",
       "      <td>5</td>\n",
       "    </tr>\n",
       "    <tr>\n",
       "      <th>1</th>\n",
       "      <td>68</td>\n",
       "      <td>77</td>\n",
       "      <td>1</td>\n",
       "      <td>1180</td>\n",
       "      <td>1</td>\n",
       "      <td>1</td>\n",
       "      <td>1915</td>\n",
       "      <td>1194</td>\n",
       "      <td>637</td>\n",
       "      <td>1093</td>\n",
       "      <td>...</td>\n",
       "      <td>723</td>\n",
       "      <td>1446</td>\n",
       "      <td>719</td>\n",
       "      <td>748</td>\n",
       "      <td>91</td>\n",
       "      <td>0</td>\n",
       "      <td>1</td>\n",
       "      <td>1</td>\n",
       "      <td>1</td>\n",
       "      <td>5</td>\n",
       "    </tr>\n",
       "    <tr>\n",
       "      <th>2</th>\n",
       "      <td>64</td>\n",
       "      <td>76</td>\n",
       "      <td>1</td>\n",
       "      <td>1406</td>\n",
       "      <td>1</td>\n",
       "      <td>1</td>\n",
       "      <td>511</td>\n",
       "      <td>1577</td>\n",
       "      <td>1121</td>\n",
       "      <td>1948</td>\n",
       "      <td>...</td>\n",
       "      <td>1123</td>\n",
       "      <td>717</td>\n",
       "      <td>1518</td>\n",
       "      <td>1689</td>\n",
       "      <td>92</td>\n",
       "      <td>0</td>\n",
       "      <td>1</td>\n",
       "      <td>1</td>\n",
       "      <td>2</td>\n",
       "      <td>5</td>\n",
       "    </tr>\n",
       "    <tr>\n",
       "      <th>3</th>\n",
       "      <td>63</td>\n",
       "      <td>80</td>\n",
       "      <td>1</td>\n",
       "      <td>550</td>\n",
       "      <td>1</td>\n",
       "      <td>1</td>\n",
       "      <td>1754</td>\n",
       "      <td>1834</td>\n",
       "      <td>1413</td>\n",
       "      <td>1151</td>\n",
       "      <td>...</td>\n",
       "      <td>1434</td>\n",
       "      <td>502</td>\n",
       "      <td>1336</td>\n",
       "      <td>711</td>\n",
       "      <td>93</td>\n",
       "      <td>0</td>\n",
       "      <td>1</td>\n",
       "      <td>1</td>\n",
       "      <td>3</td>\n",
       "      <td>5</td>\n",
       "    </tr>\n",
       "    <tr>\n",
       "      <th>4</th>\n",
       "      <td>65</td>\n",
       "      <td>81</td>\n",
       "      <td>1</td>\n",
       "      <td>1928</td>\n",
       "      <td>1</td>\n",
       "      <td>2</td>\n",
       "      <td>1326</td>\n",
       "      <td>1082</td>\n",
       "      <td>233</td>\n",
       "      <td>1441</td>\n",
       "      <td>...</td>\n",
       "      <td>1819</td>\n",
       "      <td>1616</td>\n",
       "      <td>1507</td>\n",
       "      <td>507</td>\n",
       "      <td>94</td>\n",
       "      <td>0</td>\n",
       "      <td>1</td>\n",
       "      <td>1</td>\n",
       "      <td>4</td>\n",
       "      <td>5</td>\n",
       "    </tr>\n",
       "  </tbody>\n",
       "</table>\n",
       "<p>5 rows × 24 columns</p>\n",
       "</div>"
      ],
      "text/plain": [
       "   Temperature  Humidity  Operator  Measure1  Measure2  Measure3  Measure4  \\\n",
       "0           67        82         1       291         1         1      1041   \n",
       "1           68        77         1      1180         1         1      1915   \n",
       "2           64        76         1      1406         1         1       511   \n",
       "3           63        80         1       550         1         1      1754   \n",
       "4           65        81         1      1928         1         2      1326   \n",
       "\n",
       "   Measure5  Measure6  Measure7  ...  Measure12  Measure13  Measure14  \\\n",
       "0       846       334       706  ...        968       1185       1355   \n",
       "1      1194       637      1093  ...        723       1446        719   \n",
       "2      1577      1121      1948  ...       1123        717       1518   \n",
       "3      1834      1413      1151  ...       1434        502       1336   \n",
       "4      1082       233      1441  ...       1819       1616       1507   \n",
       "\n",
       "   Measure15  Hours Since Previous Failure  Failure  month  date  hour  \\\n",
       "0       1842                            90        0      1     1     0   \n",
       "1        748                            91        0      1     1     1   \n",
       "2       1689                            92        0      1     1     2   \n",
       "3        711                            93        0      1     1     3   \n",
       "4        507                            94        0      1     1     4   \n",
       "\n",
       "   dayOfWeek  \n",
       "0          5  \n",
       "1          5  \n",
       "2          5  \n",
       "3          5  \n",
       "4          5  \n",
       "\n",
       "[5 rows x 24 columns]"
      ]
     },
     "execution_count": 51,
     "metadata": {},
     "output_type": "execute_result"
    }
   ],
   "source": [
    "mf.head()"
   ]
  },
  {
   "cell_type": "code",
   "execution_count": 52,
   "metadata": {},
   "outputs": [
    {
     "data": {
      "image/png": "[encoded data removed]",
      "text/plain": [
       "<Figure size 1080x720 with 6 Axes>"
      ]
     },
     "metadata": {
      "needs_background": "light"
     },
     "output_type": "display_data"
    }
   ],
   "source": [
    "def boxplot(x, y, **kwargs):\n",
    "    sns.boxplot(x=x, y=y)\n",
    "    x=plt.xticks(rotation=90)\n",
    "f = pd.melt(mf, id_vars=['Temperature'], value_vars=categorical_columns)\n",
    "g = sns.FacetGrid(f, col=\"variable\",  col_wrap=3, sharex=False, sharey=False, height=5)\n",
    "g = g.map(boxplot, \"value\", \"Temperature\")"
   ]
  },
  {
   "cell_type": "markdown",
   "metadata": {},
   "source": [
    "<b>Temperature = Failure</b><br>\n",
    "<b>Humidity    = Failure and Month</b><br>\n",
    "<b>Measure1    = Failure</b><br>\n",
    "<b>Measure2    = Operator, Month, Date, Hour, Day of week</b><br>\n",
    "<b>Measure3    = Constant for everything</b><br>\n",
    "<b>Measure4    = No effect</b><br>\n",
    "<b>Measure5    = Failure</b><br>\n",
    "<b>Measure6    = No effect</b><br>\n",
    "<b>Measure7    = No effect</b><br>\n",
    "<b>Measure8    = Failure</b><br>\n",
    "<b>Measure9    = Failure</b><br>\n",
    "<b>Measure10    = Failure</b><br>\n",
    "<b>Measure11    = Failure</b><br>\n",
    "<b>Measure12    = No effect</b><br>\n",
    "<b>Measure13    = Failure</b><br>\n",
    "<b>Measure14    = No effect</b><br>\n",
    "<b>Measure15    = No effect</b><br>\n",
    "<b>Hours Since Previous Failure    = Failure, Month</b><br>"
   ]
  },
  {
   "cell_type": "code",
   "execution_count": 53,
   "metadata": {},
   "outputs": [
    {
     "data": {
      "image/png": "[encoded data removed]",
      "text/plain": [
       "<Figure size 1080x720 with 6 Axes>"
      ]
     },
     "metadata": {
      "needs_background": "light"
     },
     "output_type": "display_data"
    }
   ],
   "source": [
    "def boxplot(x, y, **kwargs):\n",
    "    sns.boxplot(x=x, y=y)\n",
    "    x=plt.xticks(rotation=90)\n",
    "f = pd.melt(mf, id_vars=['Measure2'], value_vars=categorical_columns)\n",
    "g = sns.FacetGrid(f, col=\"variable\",  col_wrap=3, sharex=False, sharey=False, height=5)\n",
    "g = g.map(boxplot, \"value\", \"Measure2\")"
   ]
  },
  {
   "cell_type": "code",
   "execution_count": 54,
   "metadata": {},
   "outputs": [
    {
     "data": {
      "text/plain": [
       "<matplotlib.axes._subplots.AxesSubplot at 0x1e51760f7b8>"
      ]
     },
     "execution_count": 54,
     "metadata": {},
     "output_type": "execute_result"
    },
    {
     "data": {
      "image/png": "[encoded data removed]",
      "text/plain": [
       "<Figure size 720x360 with 1 Axes>"
      ]
     },
     "metadata": {
      "needs_background": "light"
     },
     "output_type": "display_data"
    }
   ],
   "source": [
    "sns.countplot(x='Operator', data=mf)"
   ]
  },
  {
   "cell_type": "markdown",
   "metadata": {},
   "source": [
    "<b>Operator 2 have more counts and more failures also</b>"
   ]
  },
  {
   "cell_type": "code",
   "execution_count": 55,
   "metadata": {},
   "outputs": [
    {
     "data": {
      "text/plain": [
       "<matplotlib.axes._subplots.AxesSubplot at 0x1e517beb438>"
      ]
     },
     "execution_count": 55,
     "metadata": {},
     "output_type": "execute_result"
    },
    {
     "data": {
      "image/png": "[encoded data removed]",
      "text/plain": [
       "<Figure size 720x360 with 1 Axes>"
      ]
     },
     "metadata": {
      "needs_background": "light"
     },
     "output_type": "display_data"
    }
   ],
   "source": [
    "sns.boxplot(x='Operator', y='Measure2', hue='Failure', data=mf)"
   ]
  },
  {
   "cell_type": "code",
   "execution_count": 56,
   "metadata": {},
   "outputs": [
    {
     "data": {
      "text/plain": [
       "<matplotlib.axes._subplots.AxesSubplot at 0x1e51773d320>"
      ]
     },
     "execution_count": 56,
     "metadata": {},
     "output_type": "execute_result"
    },
    {
     "data": {
      "image/png": "[encoded data removed]",
      "text/plain": [
       "<Figure size 720x360 with 1 Axes>"
      ]
     },
     "metadata": {
      "needs_background": "light"
     },
     "output_type": "display_data"
    }
   ],
   "source": [
    "sns.boxplot(x='Operator', y='Measure1', hue='Failure', data=mf)"
   ]
  },
  {
   "cell_type": "code",
   "execution_count": 57,
   "metadata": {},
   "outputs": [
    {
     "data": {
      "text/plain": [
       "0.15290885175019378"
      ]
     },
     "execution_count": 57,
     "metadata": {},
     "output_type": "execute_result"
    }
   ],
   "source": [
    "from sklearn.preprocessing import power_transform\n",
    "mf['Temperature2'] = power_transform(mf[['Temperature']], method='yeo-johnson')\n",
    "mf['Temperature2'].skew()"
   ]
  },
  {
   "cell_type": "code",
   "execution_count": 58,
   "metadata": {},
   "outputs": [
    {
     "data": {
      "text/plain": [
       "-0.0015016846707645098"
      ]
     },
     "execution_count": 58,
     "metadata": {},
     "output_type": "execute_result"
    }
   ],
   "source": [
    "from sklearn.preprocessing import power_transform\n",
    "mf['Humidity2'] = power_transform(mf[['Humidity']], method='yeo-johnson')\n",
    "mf['Humidity2'].skew()"
   ]
  },
  {
   "cell_type": "code",
   "execution_count": 59,
   "metadata": {},
   "outputs": [
    {
     "data": {
      "text/plain": [
       "-0.19376449591825082"
      ]
     },
     "execution_count": 59,
     "metadata": {},
     "output_type": "execute_result"
    }
   ],
   "source": [
    "from sklearn.preprocessing import power_transform\n",
    "mf['Measure10_2'] = power_transform(mf[['Measure1']], method='yeo-johnson')\n",
    "mf['Measure10_2'].skew()"
   ]
  },
  {
   "cell_type": "code",
   "execution_count": 60,
   "metadata": {},
   "outputs": [],
   "source": [
    "mf.drop(columns=['Temperature'], inplace=True)"
   ]
  },
  {
   "cell_type": "code",
   "execution_count": 61,
   "metadata": {},
   "outputs": [],
   "source": [
    "mf.drop(columns=['Humidity'], inplace=True)"
   ]
  },
  {
   "cell_type": "code",
   "execution_count": 62,
   "metadata": {},
   "outputs": [],
   "source": [
    "mf.drop(columns=['Measure10'], inplace=True)"
   ]
  },
  {
   "cell_type": "code",
   "execution_count": 63,
   "metadata": {},
   "outputs": [
    {
     "data": {
      "text/html": [
       "<div>\n",
       "<style scoped>\n",
       "    .dataframe tbody tr th:only-of-type {\n",
       "        vertical-align: middle;\n",
       "    }\n",
       "\n",
       "    .dataframe tbody tr th {\n",
       "        vertical-align: top;\n",
       "    }\n",
       "\n",
       "    .dataframe thead th {\n",
       "        text-align: right;\n",
       "    }\n",
       "</style>\n",
       "<table border=\"1\" class=\"dataframe\">\n",
       "  <thead>\n",
       "    <tr style=\"text-align: right;\">\n",
       "      <th></th>\n",
       "      <th>Operator</th>\n",
       "      <th>Measure1</th>\n",
       "      <th>Measure2</th>\n",
       "      <th>Measure3</th>\n",
       "      <th>Measure4</th>\n",
       "      <th>Measure5</th>\n",
       "      <th>Measure6</th>\n",
       "      <th>Measure7</th>\n",
       "      <th>Measure8</th>\n",
       "      <th>Measure9</th>\n",
       "      <th>...</th>\n",
       "      <th>Measure14</th>\n",
       "      <th>Measure15</th>\n",
       "      <th>Hours Since Previous Failure</th>\n",
       "      <th>month</th>\n",
       "      <th>date</th>\n",
       "      <th>hour</th>\n",
       "      <th>dayOfWeek</th>\n",
       "      <th>Temperature2</th>\n",
       "      <th>Humidity2</th>\n",
       "      <th>Measure10_2</th>\n",
       "    </tr>\n",
       "  </thead>\n",
       "  <tbody>\n",
       "    <tr>\n",
       "      <th>0</th>\n",
       "      <td>1</td>\n",
       "      <td>291</td>\n",
       "      <td>1</td>\n",
       "      <td>1</td>\n",
       "      <td>1041</td>\n",
       "      <td>846</td>\n",
       "      <td>334</td>\n",
       "      <td>706</td>\n",
       "      <td>1086</td>\n",
       "      <td>256</td>\n",
       "      <td>...</td>\n",
       "      <td>1355</td>\n",
       "      <td>1842</td>\n",
       "      <td>90</td>\n",
       "      <td>1</td>\n",
       "      <td>1</td>\n",
       "      <td>0</td>\n",
       "      <td>5</td>\n",
       "      <td>1.090469</td>\n",
       "      <td>-0.234179</td>\n",
       "      <td>-1.581417</td>\n",
       "    </tr>\n",
       "    <tr>\n",
       "      <th>1</th>\n",
       "      <td>1</td>\n",
       "      <td>1180</td>\n",
       "      <td>1</td>\n",
       "      <td>1</td>\n",
       "      <td>1915</td>\n",
       "      <td>1194</td>\n",
       "      <td>637</td>\n",
       "      <td>1093</td>\n",
       "      <td>524</td>\n",
       "      <td>919</td>\n",
       "      <td>...</td>\n",
       "      <td>719</td>\n",
       "      <td>748</td>\n",
       "      <td>91</td>\n",
       "      <td>1</td>\n",
       "      <td>1</td>\n",
       "      <td>1</td>\n",
       "      <td>5</td>\n",
       "      <td>1.494277</td>\n",
       "      <td>-1.356558</td>\n",
       "      <td>0.227611</td>\n",
       "    </tr>\n",
       "    <tr>\n",
       "      <th>2</th>\n",
       "      <td>1</td>\n",
       "      <td>1406</td>\n",
       "      <td>1</td>\n",
       "      <td>1</td>\n",
       "      <td>511</td>\n",
       "      <td>1577</td>\n",
       "      <td>1121</td>\n",
       "      <td>1948</td>\n",
       "      <td>1882</td>\n",
       "      <td>1301</td>\n",
       "      <td>...</td>\n",
       "      <td>1518</td>\n",
       "      <td>1689</td>\n",
       "      <td>92</td>\n",
       "      <td>1</td>\n",
       "      <td>1</td>\n",
       "      <td>2</td>\n",
       "      <td>5</td>\n",
       "      <td>-0.053211</td>\n",
       "      <td>-1.595408</td>\n",
       "      <td>0.618168</td>\n",
       "    </tr>\n",
       "    <tr>\n",
       "      <th>3</th>\n",
       "      <td>1</td>\n",
       "      <td>550</td>\n",
       "      <td>1</td>\n",
       "      <td>1</td>\n",
       "      <td>1754</td>\n",
       "      <td>1834</td>\n",
       "      <td>1413</td>\n",
       "      <td>1151</td>\n",
       "      <td>945</td>\n",
       "      <td>1312</td>\n",
       "      <td>...</td>\n",
       "      <td>1336</td>\n",
       "      <td>711</td>\n",
       "      <td>93</td>\n",
       "      <td>1</td>\n",
       "      <td>1</td>\n",
       "      <td>3</td>\n",
       "      <td>5</td>\n",
       "      <td>-0.412385</td>\n",
       "      <td>-0.669386</td>\n",
       "      <td>-0.985140</td>\n",
       "    </tr>\n",
       "    <tr>\n",
       "      <th>4</th>\n",
       "      <td>1</td>\n",
       "      <td>1928</td>\n",
       "      <td>1</td>\n",
       "      <td>2</td>\n",
       "      <td>1326</td>\n",
       "      <td>1082</td>\n",
       "      <td>233</td>\n",
       "      <td>1441</td>\n",
       "      <td>1736</td>\n",
       "      <td>1033</td>\n",
       "      <td>...</td>\n",
       "      <td>1507</td>\n",
       "      <td>507</td>\n",
       "      <td>94</td>\n",
       "      <td>1</td>\n",
       "      <td>1</td>\n",
       "      <td>4</td>\n",
       "      <td>5</td>\n",
       "      <td>0.316883</td>\n",
       "      <td>-0.449591</td>\n",
       "      <td>1.465207</td>\n",
       "    </tr>\n",
       "  </tbody>\n",
       "</table>\n",
       "<p>5 rows × 23 columns</p>\n",
       "</div>"
      ],
      "text/plain": [
       "   Operator  Measure1  Measure2  Measure3  Measure4  Measure5  Measure6  \\\n",
       "0         1       291         1         1      1041       846       334   \n",
       "1         1      1180         1         1      1915      1194       637   \n",
       "2         1      1406         1         1       511      1577      1121   \n",
       "3         1       550         1         1      1754      1834      1413   \n",
       "4         1      1928         1         2      1326      1082       233   \n",
       "\n",
       "   Measure7  Measure8  Measure9  ...  Measure14  Measure15  \\\n",
       "0       706      1086       256  ...       1355       1842   \n",
       "1      1093       524       919  ...        719        748   \n",
       "2      1948      1882      1301  ...       1518       1689   \n",
       "3      1151       945      1312  ...       1336        711   \n",
       "4      1441      1736      1033  ...       1507        507   \n",
       "\n",
       "   Hours Since Previous Failure  month  date  hour  dayOfWeek  Temperature2  \\\n",
       "0                            90      1     1     0          5      1.090469   \n",
       "1                            91      1     1     1          5      1.494277   \n",
       "2                            92      1     1     2          5     -0.053211   \n",
       "3                            93      1     1     3          5     -0.412385   \n",
       "4                            94      1     1     4          5      0.316883   \n",
       "\n",
       "   Humidity2  Measure10_2  \n",
       "0  -0.234179    -1.581417  \n",
       "1  -1.356558     0.227611  \n",
       "2  -1.595408     0.618168  \n",
       "3  -0.669386    -0.985140  \n",
       "4  -0.449591     1.465207  \n",
       "\n",
       "[5 rows x 23 columns]"
      ]
     },
     "execution_count": 63,
     "metadata": {},
     "output_type": "execute_result"
    }
   ],
   "source": [
    "targets = mf['Failure']\n",
    "mf.drop(columns=['Failure'], inplace=True)\n",
    "mf.head()"
   ]
  },
  {
   "cell_type": "code",
   "execution_count": 64,
   "metadata": {},
   "outputs": [
    {
     "name": "stdout",
     "output_type": "stream",
     "text": [
      "(6588, 23)\n",
      "(2196, 23)\n"
     ]
    }
   ],
   "source": [
    "from sklearn.model_selection import train_test_split\n",
    "X_train, X_test, y_train, y_test = train_test_split(mf, targets, test_size=0.25, random_state=9)\n",
    "print(X_train.shape)\n",
    "print(X_test.shape)"
   ]
  },
  {
   "cell_type": "code",
   "execution_count": 74,
   "metadata": {},
   "outputs": [],
   "source": [
    "from sklearn.metrics import accuracy_score\n",
    "def accr(expected, predicted):\n",
    "    return accuracy_score(expected, predicted)"
   ]
  },
  {
   "cell_type": "code",
   "execution_count": 75,
   "metadata": {},
   "outputs": [
    {
     "name": "stderr",
     "output_type": "stream",
     "text": [
      "C:\\Users\\HP PC\\Anaconda3\\lib\\site-packages\\sklearn\\linear_model\\logistic.py:432: FutureWarning: Default solver will be changed to 'lbfgs' in 0.22. Specify a solver to silence this warning.\n",
      "  FutureWarning)\n"
     ]
    },
    {
     "name": "stdout",
     "output_type": "stream",
     "text": [
      "Accuracy: 0.9965088038858531\n"
     ]
    }
   ],
   "source": [
    "from sklearn.linear_model import LogisticRegression\n",
    "lgr = LogisticRegression()\n",
    "lgr.fit(X_train, y_train)\n",
    "train_pred = lgr.predict(X_train)\n",
    "print('Accuracy:', accuracy_score(y_train, train_pred))"
   ]
  },
  {
   "cell_type": "code",
   "execution_count": 76,
   "metadata": {},
   "outputs": [
    {
     "name": "stdout",
     "output_type": "stream",
     "text": [
      "Accuracy: 0.9972677595628415\n"
     ]
    }
   ],
   "source": [
    "y_pred = lgr.predict(X_test)\n",
    "print('Accuracy:', accuracy_score(y_test, y_pred))"
   ]
  },
  {
   "cell_type": "code",
   "execution_count": 77,
   "metadata": {},
   "outputs": [
    {
     "name": "stderr",
     "output_type": "stream",
     "text": [
      "C:\\Users\\HP PC\\Anaconda3\\lib\\site-packages\\sklearn\\svm\\base.py:193: FutureWarning: The default value of gamma will change from 'auto' to 'scale' in version 0.22 to account better for unscaled features. Set gamma explicitly to 'auto' or 'scale' to avoid this warning.\n",
      "  \"avoid this warning.\", FutureWarning)\n"
     ]
    },
    {
     "name": "stdout",
     "output_type": "stream",
     "text": [
      "Accuracy: 1.0\n"
     ]
    }
   ],
   "source": [
    "from sklearn.svm import SVC\n",
    "spvr = SVC()\n",
    "spvr.fit(X_train, y_train)\n",
    "train_pred = spvr.predict(X_train)\n",
    "print('Accuracy:', accuracy_score(y_train, train_pred))"
   ]
  },
  {
   "cell_type": "code",
   "execution_count": 78,
   "metadata": {},
   "outputs": [
    {
     "name": "stdout",
     "output_type": "stream",
     "text": [
      "Accuracy: 0.9922586520947176\n"
     ]
    }
   ],
   "source": [
    "y_pred = spvr.predict(X_test)\n",
    "print('Accuracy:', accuracy_score(y_test, y_pred))"
   ]
  },
  {
   "cell_type": "code",
   "execution_count": 79,
   "metadata": {},
   "outputs": [
    {
     "name": "stdout",
     "output_type": "stream",
     "text": [
      "Accuracy: 1.0\n"
     ]
    }
   ],
   "source": [
    "from sklearn.tree import DecisionTreeClassifier\n",
    "tr = DecisionTreeClassifier()\n",
    "tr.fit(X_train, y_train)\n",
    "train_pred = tr.predict(X_train)\n",
    "print('Accuracy:', accuracy_score(y_train, train_pred))"
   ]
  },
  {
   "cell_type": "code",
   "execution_count": 80,
   "metadata": {},
   "outputs": [
    {
     "name": "stdout",
     "output_type": "stream",
     "text": [
      "Accuracy: 0.9959016393442623\n"
     ]
    }
   ],
   "source": [
    "y_pred = tr.predict(X_test)\n",
    "print('Accuracy:', accuracy_score(y_test, y_pred))"
   ]
  },
  {
   "cell_type": "code",
   "execution_count": 81,
   "metadata": {},
   "outputs": [
    {
     "name": "stdout",
     "output_type": "stream",
     "text": [
      "Accuracy: 0.9902853673345476\n"
     ]
    }
   ],
   "source": [
    "from sklearn.neighbors import KNeighborsClassifier\n",
    "kc = KNeighborsClassifier()\n",
    "kc.fit(X_train, y_train)\n",
    "train_pred = kc.predict(X_train)\n",
    "print('Accuracy:', accuracy_score(y_train, train_pred))"
   ]
  },
  {
   "cell_type": "code",
   "execution_count": 82,
   "metadata": {},
   "outputs": [
    {
     "name": "stdout",
     "output_type": "stream",
     "text": [
      "Accuracy: 0.9922586520947176\n"
     ]
    }
   ],
   "source": [
    "y_pred = kc.predict(X_test)\n",
    "print('Accuracy:', accuracy_score(y_test, y_pred))"
   ]
  },
  {
   "cell_type": "code",
   "execution_count": null,
   "metadata": {},
   "outputs": [],
   "source": []
  }
 ],
 "metadata": {
  "kernelspec": {
   "display_name": "Python 3",
   "language": "python",
   "name": "python3"
  },
  "language_info": {
   "codemirror_mode": {
    "name": "ipython",
    "version": 3
   },
   "file_extension": ".py",
   "mimetype": "text/x-python",
   "name": "python",
   "nbconvert_exporter": "python",
   "pygments_lexer": "ipython3",
   "version": "3.7.3"
  }
 },
 "nbformat": 4,
 "nbformat_minor": 2
}
